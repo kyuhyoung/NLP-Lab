{
 "cells": [
  {
   "cell_type": "markdown",
   "metadata": {},
   "source": [
    "# 1. Question"
   ]
  },
  {
   "cell_type": "code",
   "execution_count": null,
   "metadata": {},
   "outputs": [],
   "source": [
    "import requests\n",
    "rss_url = \"http://fs.jtbc.joins.com/RSS/economy.xml\"\n",
    "jtbc_economy = requests.get(rss_url)"
   ]
  },
  {
   "cell_type": "code",
   "execution_count": null,
   "metadata": {},
   "outputs": [],
   "source": [
    "from bs4 import BeautifulSoup\n",
    "economy_news_list = BeautifulSoup(jtbc_economy.content, \"xml\")\n",
    "link_list = economy_news_list.select(\"item > link\")"
   ]
  },
  {
   "cell_type": "code",
   "execution_count": null,
   "metadata": {},
   "outputs": [],
   "source": [
    "from konlpy.tag import Mecab\n",
    "mecab = Mecab()"
   ]
  },
  {
   "cell_type": "code",
   "execution_count": null,
   "metadata": {},
   "outputs": [],
   "source": [
    "news =[]\n",
    "for link in link_list:\n",
    "    news_url = link.text\n",
    "    news_response = requests.get(news_url)\n",
    "    news_soup = BeautifulSoup(news_response.content, \"html.parser\")\n",
    "    news_content = news_soup.select_one(\"#articlebody > .article_content\")\n",
    "    news.append(list(filter(lambda word: len(word)>1, mecab.nouns(news_content.text))))\n",
    "    \n",
    "news"
   ]
  },
  {
   "cell_type": "markdown",
   "metadata": {},
   "source": [
    "# 2. Question"
   ]
  },
  {
   "cell_type": "code",
   "execution_count": null,
   "metadata": {},
   "outputs": [],
   "source": [
    "word_Korean = [\"추석\", \"연휴\", \"민족\", \"대이동\", \"시작\", \"늘어\", \"교통량\", \"교통사고\", \"특히\", \"자동차\", \\\n",
    "               \"고장\", \"상당수\", \"차지\", \"나타\", \"것\", \"기자\"]"
   ]
  },
  {
   "cell_type": "code",
   "execution_count": null,
   "metadata": {},
   "outputs": [],
   "source": [
    "stopwords = [\"가다\", \"늘어\", \"나타\", \"것\", \"기자\"] "
   ]
  },
  {
   "cell_type": "code",
   "execution_count": null,
   "metadata": {},
   "outputs": [],
   "source": [
    "results = [word for word in word_Korean if word not in stopwords]\n",
    "results"
   ]
  },
  {
   "cell_type": "markdown",
   "metadata": {},
   "source": [
    "# 3. Question"
   ]
  },
  {
   "cell_type": "code",
   "execution_count": null,
   "metadata": {},
   "outputs": [],
   "source": [
    "pip install pymongo"
   ]
  },
  {
   "cell_type": "code",
   "execution_count": null,
   "metadata": {},
   "outputs": [],
   "source": [
    "pip install selenium"
   ]
  },
  {
   "cell_type": "code",
   "execution_count": null,
   "metadata": {},
   "outputs": [],
   "source": [
    "from selenium import webdriver as wd\n",
    "import re\n",
    "import pandas as pd\n",
    "import time\n",
    "\n",
    "title_list = list()\n",
    "point_list = list()\n",
    "regdate_list = list()\n",
    "content_list = list()\n",
    "\n",
    "\n",
    "for i in range(1, 4):\n",
    "    #for linux\n",
    "    driver = wd.Chrome(executable_path = './chromedriver')\n",
    "    #for Windows\n",
    "    #driver = wd.Chrome(executable_path = 'chromedriver.exe')\n",
    "    url = 'http://www.yes24.com/Product/communityModules/GoodsReviewList/40936880?Sort=1&PageNumber='\n",
    "    url += str(i) + '&Type=ALL&_=156817'\n",
    "    driver.get(url)\n",
    "\n",
    "    # #암묵적 대기\n",
    "    driver.implicitly_wait(2)\n",
    "    #제목, 평점, 작성날짜, 리뷰내용\n",
    "    #review_Tit,review_rating, txt_date, review_cont\n",
    "    time.sleep(2)\n",
    "    review_info_group = driver.find_elements_by_css_selector('.reviewInfoGrp')\n",
    "    for review_info in review_info_group:\n",
    "        title = review_info.find_element_by_css_selector('.review_Tit').text\n",
    "        review_rating = review_info.find_element_by_css_selector('.review_rating').text  #내용 평점5점   편집/디자인 평점5점\n",
    "        txt_date = review_info.find_element_by_css_selector('.txt_date').text\n",
    "        review_cont = review_info.find_element_by_css_selector('.review_cont').text\n",
    "        title_list.append(title)\n",
    "        point = re.sub(r'평점', '', review_rating.split(' ')[1])\n",
    "        point_list.append(re.sub(r'점', '', point))\n",
    "        regdate_list.append(txt_date)\n",
    "        content_list.append(review_cont)\n",
    "    driver.close()\n",
    "\n",
    "df = pd.DataFrame(title_list, columns = ['title'])\n",
    "df['point'] = point_list\n",
    "df['regdate'] = regdate_list\n",
    "df['review'] = content_list\n",
    "\n",
    "import pymongo\n",
    "from pymongo import MongoClient\n",
    "\n",
    "client = MongoClient('localhost', 27017)\n",
    "db = client.test\n",
    "\n",
    "try:\n",
    "    for i in range(0, len(title_list)):\n",
    "        db.insight.insert({\n",
    "            'title' : df.loc[i, 'title'],\n",
    "            'point' : df.loc[i, 'point'],\n",
    "            'regdate' : df.loc[i, 'regdate'],\n",
    "            'review' : df.loc[i, 'review']\n",
    "        })\n",
    "    print(\"Success.\")\n",
    "except Exception as e: \n",
    "    print('Exception 발생 = ', e)\n"
   ]
  },
  {
   "cell_type": "code",
   "execution_count": null,
   "metadata": {},
   "outputs": [],
   "source": [
    "review_list = list()\n",
    "reviews = db.insight.find({}, {'review':1, '_id':0})\n",
    "for review in reviews:\n",
    "    review_list.append(review)\n",
    "    \n",
    "print(review_list)"
   ]
  },
  {
   "cell_type": "code",
   "execution_count": null,
   "metadata": {},
   "outputs": [],
   "source": [
    "text = ''\n",
    "reviews = db.insight.find({}, {'review':1, '_id':0})\n",
    "for review in reviews:\n",
    "    text += review['review']\n",
    "\n",
    "text\n",
    "from konlpy.tag import Mecab\n",
    "mecab = Mecab()\n",
    "nouns = mecab.nouns(text)\n",
    "nouns_list = [noun for noun in nouns if len(noun) > 2]\n",
    "text = ' '.join(nouns_list)"
   ]
  },
  {
   "cell_type": "code",
   "execution_count": null,
   "metadata": {},
   "outputs": [],
   "source": [
    "pip install wordcloud"
   ]
  },
  {
   "cell_type": "code",
   "execution_count": null,
   "metadata": {},
   "outputs": [],
   "source": [
    "from wordcloud import WordCloud"
   ]
  },
  {
   "cell_type": "code",
   "execution_count": null,
   "metadata": {},
   "outputs": [],
   "source": [
    "#for Linux\n",
    "cloud = WordCloud(background_color = 'white')\n",
    "#for Windows\n",
    "#cloud = WordCloud(background_color = 'white', \\\n",
    "#                  font_path='C:/Windows/Fonts/magungitic.ttf')"
   ]
  },
  {
   "cell_type": "code",
   "execution_count": null,
   "metadata": {},
   "outputs": [],
   "source": [
    "cloud.generate(text)"
   ]
  },
  {
   "cell_type": "code",
   "execution_count": null,
   "metadata": {},
   "outputs": [],
   "source": [
    "import matplotlib.pyplot as plt\n",
    "%matplotlib inline"
   ]
  },
  {
   "cell_type": "code",
   "execution_count": null,
   "metadata": {},
   "outputs": [],
   "source": [
    "plt.figure(figsize=(15, 10))\n",
    "plt.imshow(cloud, interpolation = 'bilinear')\n",
    "plt.axis('off')"
   ]
  },
  {
   "cell_type": "code",
   "execution_count": null,
   "metadata": {},
   "outputs": [],
   "source": []
  }
 ],
 "metadata": {
  "kernelspec": {
   "display_name": "Python 3",
   "language": "python",
   "name": "python3"
  },
  "language_info": {
   "codemirror_mode": {
    "name": "ipython",
    "version": 3
   },
   "file_extension": ".py",
   "mimetype": "text/x-python",
   "name": "python",
   "nbconvert_exporter": "python",
   "pygments_lexer": "ipython3",
   "version": "3.7.3"
  }
 },
 "nbformat": 4,
 "nbformat_minor": 2
}
