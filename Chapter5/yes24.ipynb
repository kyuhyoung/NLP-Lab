{
 "cells": [
  {
   "cell_type": "code",
   "execution_count": null,
   "metadata": {},
   "outputs": [],
   "source": [
    "import requests\n",
    "from bs4 import BeautifulSoup\n",
    "import re"
   ]
  },
  {
   "cell_type": "code",
   "execution_count": null,
   "metadata": {},
   "outputs": [],
   "source": [
    "url = 'http://www.yes24.com/24/category/bestseller?CategoryNumber=001'\n",
    "yes24 = requests.get(url)"
   ]
  },
  {
   "cell_type": "code",
   "execution_count": null,
   "metadata": {},
   "outputs": [],
   "source": [
    "bs = BeautifulSoup(yes24.text)\n",
    "titlelist = []\n",
    "authorlist = []\n",
    "publisherlist = []\n",
    "pricelist = []"
   ]
  },
  {
   "cell_type": "code",
   "execution_count": null,
   "metadata": {},
   "outputs": [],
   "source": [
    "for i in range(1, 21):\n",
    "    idx = None\n",
    "    if(i == 19 or i == 20) : idx = str(i) + '_line'\n",
    "    else : idx = str(i)\n",
    "    title = bs.find('ol', class_ = '') \\\n",
    "            .find('li', class_ = 'num' + idx) \\\n",
    "            .find_all('p')[2].text\n",
    "    title = title.replace('[도서] ', '')\n",
    "    titlelist.append(title.strip())"
   ]
  },
  {
   "cell_type": "code",
   "execution_count": null,
   "metadata": {},
   "outputs": [],
   "source": [
    "for i in range(1, 21):\n",
    "    idx = None\n",
    "    if(i == 19 or i == 20) : idx = str(i) + '_line'\n",
    "    else : idx = str(i)\n",
    "    author = bs.find('ol', class_ = '') \\\n",
    "                .find('li', class_ = 'num' + idx) \\\n",
    "                .find('p', class_ = 'aupu').text\n",
    "    author = author.split('|')[0].strip()\n",
    "    authorlist.append(author)"
   ]
  },
  {
   "cell_type": "code",
   "execution_count": null,
   "metadata": {},
   "outputs": [],
   "source": [
    "for i in range(1, 21):\n",
    "    idx = None\n",
    "    if(i == 19 or i == 20) : idx = str(i) + '_line'\n",
    "    else : idx = str(i)\n",
    "    price = bs.find('ol', class_ = '') \\\n",
    "            .find('li', class_ = 'num' + idx) \\\n",
    "            .find('p', class_ = 'price').text\n",
    "    price = price.split('원')[0]\n",
    "    price = int(re.sub(r',', '', price))\n",
    "    pricelist.append(price)"
   ]
  },
  {
   "cell_type": "code",
   "execution_count": null,
   "metadata": {},
   "outputs": [],
   "source": [
    "for i in range(1, 21):\n",
    "    idx = None\n",
    "    if(i == 19 or i == 20) : idx = str(i) + '_line'\n",
    "    else : idx = str(i)\n",
    "    publisher = bs.find('ol', class_ = '') \\\n",
    "            .find('li', class_ = 'num' + idx) \\\n",
    "            .find('p', class_ = 'aupu').text\n",
    "    publisher = publisher.split('|')[1]\n",
    "    publisherlist.append(publisher)"
   ]
  },
  {
   "cell_type": "code",
   "execution_count": null,
   "metadata": {},
   "outputs": [],
   "source": [
    "import pandas as pd\n",
    "\n",
    "df = pd.DataFrame(titlelist, columns = ['Title'])"
   ]
  },
  {
   "cell_type": "code",
   "execution_count": null,
   "metadata": {},
   "outputs": [],
   "source": [
    "df['Author'] = authorlist\n",
    "df['Publisher'] = publisherlist\n",
    "df['Price'] = pricelist"
   ]
  },
  {
   "cell_type": "code",
   "execution_count": null,
   "metadata": {},
   "outputs": [],
   "source": [
    "import numpy as np\n",
    "df['Price'].astype('int64')"
   ]
  },
  {
   "cell_type": "code",
   "execution_count": null,
   "metadata": {},
   "outputs": [],
   "source": [
    "df.info()"
   ]
  },
  {
   "cell_type": "code",
   "execution_count": null,
   "metadata": {},
   "outputs": [],
   "source": [
    "import sqlite3"
   ]
  },
  {
   "cell_type": "code",
   "execution_count": null,
   "metadata": {},
   "outputs": [],
   "source": [
    "conn = sqlite3.connect('yes24.db')\n",
    "cursor = conn.cursor()\n",
    "\n",
    "sql = 'DROP TABLE IF EXISTS BestSeller'\n",
    "cursor.execute(sql)\n",
    "sql = '''CREATE TABLE BestSeller(\n",
    "         idx      INT    PRIMARY KEY,\n",
    "         title    TEXT,\n",
    "         author   TEXT,\n",
    "         publisher  TEXT,\n",
    "         price     INT\n",
    ")'''\n",
    "cursor.execute(sql)"
   ]
  },
  {
   "cell_type": "code",
   "execution_count": null,
   "metadata": {},
   "outputs": [],
   "source": [
    "for i in range(0, len(df)) : \n",
    "    cursor.execute(\"INSERT INTO BestSeller VALUES(\" + str(i) + \", \\'\" + df.loc[i, 'Title'] + \"\\',\\'\" + df.loc[i, 'Author'] + \"\\',\\'\" + df.loc[i, 'Publisher'] + \"\\', \" + str(df.loc[i, 'Price']) + \")\")\n",
    "    conn.commit()"
   ]
  },
  {
   "cell_type": "code",
   "execution_count": null,
   "metadata": {},
   "outputs": [],
   "source": [
    "cursor.close()\n",
    "conn.close()"
   ]
  },
  {
   "cell_type": "code",
   "execution_count": null,
   "metadata": {},
   "outputs": [],
   "source": []
  }
 ],
 "metadata": {
  "kernelspec": {
   "display_name": "Python 3",
   "language": "python",
   "name": "python3"
  },
  "language_info": {
   "codemirror_mode": {
    "name": "ipython",
    "version": 3
   },
   "file_extension": ".py",
   "mimetype": "text/x-python",
   "name": "python",
   "nbconvert_exporter": "python",
   "pygments_lexer": "ipython3",
   "version": "3.7.3"
  }
 },
 "nbformat": 4,
 "nbformat_minor": 2
}
