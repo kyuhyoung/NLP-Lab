{
 "cells": [
  {
   "cell_type": "markdown",
   "metadata": {},
   "source": [
    "## Python으로 Sigmoid Function 그리기"
   ]
  },
  {
   "cell_type": "code",
   "execution_count": null,
   "metadata": {},
   "outputs": [],
   "source": [
    "import numpy as np # 넘파이 사용\n",
    "import matplotlib.pyplot as plt # 맷플롯립 사용\n",
    "%matplotlib inline\n",
    "\n",
    "def sigmoid(x):\n",
    "    return 1/(1+np.exp(-x))\n",
    "x = np.arange(-5.0, 5.0, 0.1)\n",
    "y = sigmoid(x)\n",
    "\n",
    "plt.plot(x, y, 'g')\n",
    "plt.plot([0,0],[1.0,0.0], ':') # 가운데 점선 추가\n",
    "plt.title('Sigmoid Function')\n",
    "plt.show()"
   ]
  },
  {
   "cell_type": "markdown",
   "metadata": {},
   "source": [
    "## W값 변화보기"
   ]
  },
  {
   "cell_type": "code",
   "execution_count": null,
   "metadata": {},
   "outputs": [],
   "source": [
    "import numpy as np # 넘파이 사용\n",
    "import matplotlib.pyplot as plt # 맷플롯립 사용\n",
    "\n",
    "def sigmoid(x):\n",
    "    return 1/(1+np.exp(-x))\n",
    "\n",
    "x = np.arange(-5.0, 5.0, 0.1)\n",
    "y1 = sigmoid(0.5*x)\n",
    "y2 = sigmoid(x)\n",
    "y3 = sigmoid(2*x)\n",
    "\n",
    "plt.plot(x, y1, 'r', linestyle='--') # W의 값이 0.5일때\n",
    "plt.plot(x, y2, 'g') # W의 값이 1일때\n",
    "plt.plot(x, y3, 'b', linestyle='--') # W의 값이 2일때\n",
    "plt.plot([0,0],[1.0,0.0], ':') # 가운데 점선 추가\n",
    "plt.title('Sigmoid Function')\n",
    "plt.show()"
   ]
  },
  {
   "cell_type": "markdown",
   "metadata": {},
   "source": [
    "## b의 변화값 보기"
   ]
  },
  {
   "cell_type": "code",
   "execution_count": null,
   "metadata": {},
   "outputs": [],
   "source": [
    "import numpy as np # 넘파이 사용\n",
    "import matplotlib.pyplot as plt # 맷플롯립 사용\n",
    "\n",
    "def sigmoid(x):\n",
    "    return 1/(1+np.exp(-x))\n",
    "x = np.arange(-5.0, 5.0, 0.1)\n",
    "y1 = sigmoid(x+0.5)\n",
    "y2 = sigmoid(x+1)\n",
    "y3 = sigmoid(x+1.5)\n",
    "\n",
    "plt.plot(x, y1, 'r', linestyle='--') # x + 0.5\n",
    "plt.plot(x, y2, 'g') # x + 1\n",
    "plt.plot(x, y3, 'b', linestyle='--') # x + 1.5\n",
    "plt.plot([0,0],[1.0,0.0], ':') # 가운데 점선 추가\n",
    "plt.title('Sigmoid Function')\n",
    "plt.show()"
   ]
  },
  {
   "cell_type": "markdown",
   "metadata": {},
   "source": [
    "## Data 얻어오기"
   ]
  },
  {
   "cell_type": "markdown",
   "metadata": {},
   "source": [
    "<a href='http://yann.lecun.com/exdb/mnist/'>THE MNIST DATABASE</a>"
   ]
  },
  {
   "cell_type": "code",
   "execution_count": null,
   "metadata": {},
   "outputs": [],
   "source": [
    "import tensorflow as tf\n",
    "import numpy as np\n",
    "from tensorflow.examples.tutorials.mnist import input_data\n",
    "\n",
    "# download or read data\n",
    "mnist = input_data.read_data_sets(\"./MNIST_data/\", one_hot=True)\n",
    "\n",
    "\n",
    "# 자료를 읽어서 변수에 저장하기 \n",
    "train_x_data_all = mnist.train.images\n",
    "train_y_data_all = mnist.train.labels\n",
    "\n",
    "# 자료 구조 확인하기 \n",
    "print (\"train_x_data shape is \", np.shape(train_x_data_all), \", train_y_data shape is\", np.shape(train_y_data_all))\n",
    "\n",
    "# 자료 변형하기 \n",
    "temp_x = np.reshape(train_x_data_all, (55000, 28, 28))\n",
    "view_1st_digit= temp_x[0]\n",
    "\n",
    "# 첫째 글자 확인하기 \n",
    "view_1st_digit_label= train_y_data_all[0]\n",
    "print (\"temp_x[0] label is\", view_1st_digit_label)\n",
    "\n",
    "# 둘째 글자 확인하기 \n",
    "view_2nd_digit= temp_x[1]\n",
    "view_2nd_digit_label= train_y_data_all[1]\n",
    "print (\"temp_x[1] label is\", view_2nd_digit_label)"
   ]
  },
  {
   "cell_type": "markdown",
   "metadata": {},
   "source": [
    "## Module 가져오기 및 자료 읽기"
   ]
  },
  {
   "cell_type": "code",
   "execution_count": null,
   "metadata": {},
   "outputs": [],
   "source": [
    "import tensorflow as tf\n",
    "import numpy as np\n",
    "from tensorflow.examples.tutorials.mnist import input_data\n",
    "\n",
    "mnist = input_data.read_data_sets(\"./MNIST_data/\", one_hot=True)"
   ]
  },
  {
   "cell_type": "markdown",
   "metadata": {},
   "source": [
    "## 입력층 정의"
   ]
  },
  {
   "cell_type": "code",
   "execution_count": null,
   "metadata": {},
   "outputs": [],
   "source": [
    "X = tf.placeholder(tf.float32, [None, 784])   #None은 정하지 않은 숫자라는 뜻\n",
    "Y = tf.placeholder(tf.float32, [None, 10])\n",
    "\n",
    "# 가중치 a와 편차 b 정의하기\n",
    "a = tf.Variable(tf.zeros([784, 10]))\n",
    "b = tf.Variable(tf.zeros([10]))"
   ]
  },
  {
   "cell_type": "markdown",
   "metadata": {},
   "source": [
    "## Model 정의"
   ]
  },
  {
   "cell_type": "code",
   "execution_count": null,
   "metadata": {},
   "outputs": [],
   "source": [
    "temp_matmul = tf.matmul(X, a)\n",
    "temp_y = temp_matmul + b\n",
    "y = tf.nn.softmax(temp_y)\n",
    "guess = tf.argmax(y, 1)"
   ]
  },
  {
   "cell_type": "markdown",
   "metadata": {},
   "source": [
    "## Cost 정의"
   ]
  },
  {
   "cell_type": "code",
   "execution_count": null,
   "metadata": {},
   "outputs": [],
   "source": [
    "Y_log_y = Y * tf.log(y)\n",
    "temp_cost = -tf.reduce_sum(Y_log_y, reduction_indices=[1])\n",
    "cost = tf.reduce_mean(temp_cost)\n",
    "do_train = tf.train.GradientDescentOptimizer(0.5).minimize(cost)"
   ]
  },
  {
   "cell_type": "code",
   "execution_count": null,
   "metadata": {},
   "outputs": [],
   "source": [
    "# session 정의\n",
    "sess = tf.InteractiveSession()\n",
    "init = tf.global_variables_initializer()\n",
    "sess.run(init)"
   ]
  },
  {
   "cell_type": "code",
   "execution_count": null,
   "metadata": {},
   "outputs": [],
   "source": [
    "# 학습 실행\n",
    "for i in range(1):\n",
    "    x_data, y_data = mnist.train.next_batch(7)\n",
    "\n",
    "    # 학습하기\n",
    "    sess.run(do_train, feed_dict={X: x_data, Y: y_data})\n",
    "\n",
    "    # a값, b값 확인하기\n",
    "    a_out = sess.run(a, feed_dict={X: x_data})\n",
    "    b_out = sess.run(b, feed_dict={X: x_data})\n",
    "\n",
    "    # y값 확인하기\n",
    "    temp_matmul_out = sess.run(temp_matmul, feed_dict={X: x_data})\n",
    "    temp_y_out = sess.run(temp_y, feed_dict={X: x_data})\n",
    "    y_out = sess.run(y, feed_dict={X: x_data})\n",
    "    guess_out = sess.run(guess, feed_dict={X: x_data})\n",
    "\n",
    "    # cross entropy, cost 확인하기\n",
    "    Y_log_y_out = sess.run(Y_log_y, feed_dict={X: x_data, Y: y_data})\n",
    "    temp_cost_out = sess.run(temp_cost, feed_dict={X: x_data, Y: y_data})\n",
    "    cost_out = sess.run(cost, feed_dict={X: x_data, Y: y_data})\n",
    "\n",
    "    # 결과 출력하기\n",
    "    print(\"guess of the image ==> \", guess_out)"
   ]
  },
  {
   "cell_type": "code",
   "execution_count": null,
   "metadata": {},
   "outputs": [],
   "source": [
    "import tensorflow as tf\n",
    "import numpy as np\n",
    "from tensorflow.examples.tutorials.mnist import input_data\n",
    "\n",
    "\n",
    "mnist = input_data.read_data_sets(\"./MNIST_data/\", one_hot=True)\n",
    "\n",
    "\n",
    "# 입력층 정의 \n",
    "X = tf.placeholder(tf.float32, [None, 784])\n",
    "Y = tf.placeholder(tf.float32, [None, 10])\n",
    "\n",
    "# 가중치 a와 편차 b 정의하기 \n",
    "a = tf.Variable(tf.zeros([784, 10]))\n",
    "b = tf.Variable(tf.zeros([10]))\n",
    "\n",
    "\n",
    "# 모델 정의  \n",
    "temp_y = tf.matmul(X,a) + b\n",
    "y = tf.nn.softmax(temp_y)\n",
    "guess = tf.argmax(y, 1)\n",
    "\n",
    "# cost 정의\n",
    "Y_log_y = Y * tf.log(y)\n",
    "temp_cost = -tf.reduce_sum(Y_log_y, reduction_indices=[1])\n",
    "cost = tf.reduce_mean(temp_cost)\n",
    "do_train = tf.train.GradientDescentOptimizer(0.5).minimize(cost)\n",
    "sess = tf.InteractiveSession()\n",
    "init = tf.global_variables_initializer()\n",
    "sess.run(init)\n",
    "\n",
    "for i in range(1000):\n",
    "  x_data, y_data = mnist.train.next_batch(100)\n",
    "  sess.run(do_train, feed_dict={X: x_data, Y: y_data})\n",
    "  #cost를 기록한다.\n",
    "  print (i,\"th step finished.. cost is\", sess.run(cost, feed_dict={X: x_data, Y: y_data}))\n",
    "  # 데이터 검증 test set으로 정확도를 평가 한다.\n",
    "  correct_prediction = tf.equal(tf.argmax(y, 1), tf.argmax(Y, 1))\n",
    "  accuracy = tf.reduce_mean(tf.cast(correct_prediction, tf.float32))\n",
    "  print( \"accuracy is\", sess.run(accuracy, feed_dict={X: mnist.test.images, Y: mnist.test.labels}))"
   ]
  }
 ],
 "metadata": {
  "kernelspec": {
   "display_name": "Python 3",
   "language": "python",
   "name": "python3"
  },
  "language_info": {
   "codemirror_mode": {
    "name": "ipython",
    "version": 3
   },
   "file_extension": ".py",
   "mimetype": "text/x-python",
   "name": "python",
   "nbconvert_exporter": "python",
   "pygments_lexer": "ipython3",
   "version": "3.7.3"
  }
 },
 "nbformat": 4,
 "nbformat_minor": 2
}
