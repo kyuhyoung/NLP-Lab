{
 "cells": [
  {
   "cell_type": "markdown",
   "metadata": {},
   "source": [
    "# 연관분석"
   ]
  },
  {
   "cell_type": "markdown",
   "metadata": {},
   "source": [
    "### 대용량의 트랜잭션 데이터로부터 “X이면 Y이다” 형식의 연관 관계를 발견하는 기법"
   ]
  },
  {
   "cell_type": "markdown",
   "metadata": {},
   "source": [
    "### 대형마트에 방문하여 물건을 구입하는 손님들중 손님 한명이 산 물품을 트랜잭션(transaction) 이라고 한다. 대형마트는 데이터베이스를 구축하고 있으며, 수많은 트랜잭션들을 분석하여 의미있는 패턴을 찾아낼 수 있다."
   ]
  },
  {
   "cell_type": "code",
   "execution_count": null,
   "metadata": {},
   "outputs": [],
   "source": [
    "import csv\n",
    "with open('myenv/basket.csv', 'r', encoding='utf-8') as f:\n",
    "    transactions = []\n",
    "    rows = csv.reader(f)\n",
    "    for row in rows:\n",
    "        transactions.append(row)"
   ]
  },
  {
   "cell_type": "code",
   "execution_count": null,
   "metadata": {},
   "outputs": [],
   "source": [
    "transactions"
   ]
  },
  {
   "cell_type": "code",
   "execution_count": null,
   "metadata": {},
   "outputs": [],
   "source": [
    "pip install apyori"
   ]
  },
  {
   "cell_type": "markdown",
   "metadata": {},
   "source": [
    "### apriori(transactions, **kwargs)\n",
    "* transactions : 연관규칙을 생성할 transaction data. list형식\n",
    "* min_support : 최소 지지도 설정. 기본값은 0.1\n",
    "* min_confidence : 최소 신뢰도 설정. 기본값은 0.0\n",
    "* min_lift : 최소 향상도 설정. 기본값은 0.0\n",
    "* max_length : 관계의 최대 길이를 정수형으롤 설정. 기본값은 None"
   ]
  },
  {
   "cell_type": "markdown",
   "metadata": {},
   "source": [
    "### 연관규칙(Association rule)의 대표적인 형태로써, 데이터들에 대한 발생빈도(빈발, frequent) 를 기반으로 각 데이터 간의 연관관계를 밝히기 위한 방법을 말하며, 장바구니 분석을 예로 들수 있다."
   ]
  },
  {
   "cell_type": "code",
   "execution_count": null,
   "metadata": {},
   "outputs": [],
   "source": [
    "from apyori import apriori\n",
    "rules = apriori(transactions, min_support = 0.1, min_confidence = 0.1)\n",
    "results = list(rules)"
   ]
  },
  {
   "cell_type": "code",
   "execution_count": null,
   "metadata": {},
   "outputs": [],
   "source": [
    "type(results)"
   ]
  },
  {
   "cell_type": "code",
   "execution_count": null,
   "metadata": {},
   "outputs": [],
   "source": [
    "len(results)"
   ]
  },
  {
   "cell_type": "code",
   "execution_count": null,
   "metadata": {},
   "outputs": [],
   "source": [
    "results[0]"
   ]
  },
  {
   "cell_type": "code",
   "execution_count": null,
   "metadata": {},
   "outputs": [],
   "source": [
    "results[10]"
   ]
  },
  {
   "cell_type": "code",
   "execution_count": null,
   "metadata": {},
   "outputs": [],
   "source": [
    "print(\"lhs\\trhs\\tsupport\\t\\tconfidence\\tlift\")\n",
    "print('-' * 40)\n",
    "for row in results:\n",
    "    support = row[1]\n",
    "    ordered_stat = row[2]\n",
    "    for ordered_item in ordered_stat:\n",
    "        lhs = [x for x in ordered_item[0]]\n",
    "        rhs = [x for x in ordered_item[1]]\n",
    "        confidence = ordered_item[2]\n",
    "        lift = ordered_item[3]\n",
    "        print(lhs, \" => \", rhs, \"\\t{:>5.4f}\\t{:>5.4f}\\t{:>5.4f}\". \\\n",
    "              format(support, confidence, lift))"
   ]
  },
  {
   "cell_type": "code",
   "execution_count": null,
   "metadata": {},
   "outputs": [],
   "source": [
    "import requests"
   ]
  },
  {
   "cell_type": "code",
   "execution_count": null,
   "metadata": {},
   "outputs": [],
   "source": [
    "url = 'http://fs.jtbc.joins.com/RSS/economy.xml'\n",
    "jtbc_economy = requests.get(url)"
   ]
  },
  {
   "cell_type": "code",
   "execution_count": null,
   "metadata": {},
   "outputs": [],
   "source": [
    "from bs4 import BeautifulSoup\n",
    "economy_news_list = BeautifulSoup(jtbc_economy.content, 'xml')\n",
    "link_list = economy_news_list.select('item > link')"
   ]
  },
  {
   "cell_type": "code",
   "execution_count": null,
   "metadata": {},
   "outputs": [],
   "source": [
    "len(link_list)"
   ]
  },
  {
   "cell_type": "code",
   "execution_count": null,
   "metadata": {},
   "outputs": [],
   "source": [
    "link_list[0].text"
   ]
  },
  {
   "cell_type": "code",
   "execution_count": null,
   "metadata": {},
   "outputs": [],
   "source": [
    "from konlpy.tag import Mecab\n",
    "mecab = Mecab()"
   ]
  },
  {
   "cell_type": "code",
   "execution_count": null,
   "metadata": {},
   "outputs": [],
   "source": [
    "news = list()\n",
    "for link in link_list:\n",
    "    news_url = link.text\n",
    "    news_response = requests.get(news_url)\n",
    "    news_soup = BeautifulSoup(news_response.content, 'html.parser')\n",
    "    news_content = news_soup.select_one('#articlebody > .article_content')\n",
    "    nouns_list = mecab.nouns(news_content.text)\n",
    "    news.append([word for word in nouns_list if len(word) > 1])"
   ]
  },
  {
   "cell_type": "code",
   "execution_count": null,
   "metadata": {},
   "outputs": [],
   "source": [
    "news"
   ]
  },
  {
   "cell_type": "code",
   "execution_count": null,
   "metadata": {},
   "outputs": [],
   "source": [
    "type(news)"
   ]
  },
  {
   "cell_type": "code",
   "execution_count": null,
   "metadata": {},
   "outputs": [],
   "source": [
    "from apyori import apriori\n",
    "rules = apriori(news, min_support = 0.2, min_confidence = 0.2)\n",
    "results = list(rules)\n",
    "len(results)"
   ]
  },
  {
   "cell_type": "code",
   "execution_count": null,
   "metadata": {},
   "outputs": [],
   "source": [
    "import pandas as pd\n",
    "df = pd.DataFrame(None, columns = [\"lhs\", \"rhs\", \"support\", \"confidence\", \"lift\"])\n",
    "index = 0\n",
    "for row in results:\n",
    "    support = row[1]\n",
    "    ordered_stat = row[2]\n",
    "    for ordered_item in ordered_stat:\n",
    "        lhs = \" \".join(x.strip() for x in ordered_item[0])\n",
    "        rhs = \" \".join(x.strip() for x in ordered_item[1])\n",
    "        confidence = ordered_item[2]\n",
    "        lift = ordered_item[3]\n",
    "        df.loc[index] = [lhs, rhs, support, confidence, lift]\n",
    "        index = index + 1"
   ]
  },
  {
   "cell_type": "code",
   "execution_count": null,
   "metadata": {},
   "outputs": [],
   "source": [
    "df.loc[df.lhs == \"\"].sort_values(by = [\"support\"], ascending = False)"
   ]
  },
  {
   "cell_type": "code",
   "execution_count": null,
   "metadata": {},
   "outputs": [],
   "source": [
    "df.loc[(df.lhs.str.contains(\"일본\"))& (df.rhs==\"한국\")].sort_values(by=[\"lift\"], ascending = False)"
   ]
  },
  {
   "cell_type": "markdown",
   "metadata": {},
   "source": [
    "## 연관분석 연습하기"
   ]
  },
  {
   "cell_type": "code",
   "execution_count": null,
   "metadata": {},
   "outputs": [],
   "source": [
    "import csv\n",
    "with open('myenv/mybasket.csv', 'r', encoding = 'utf8') as f:\n",
    "    transactions = []\n",
    "    rows = csv.reader(f)\n",
    "    for row in rows : \n",
    "        transactions.append(row)"
   ]
  },
  {
   "cell_type": "code",
   "execution_count": null,
   "metadata": {},
   "outputs": [],
   "source": [
    "len(transactions)"
   ]
  },
  {
   "cell_type": "code",
   "execution_count": null,
   "metadata": {},
   "outputs": [],
   "source": [
    "from apyori import apriori\n",
    "rules = apriori(transactions, min_support = 0.1, min_confidence = 0.1)\n",
    "results = list(rules)"
   ]
  },
  {
   "cell_type": "code",
   "execution_count": null,
   "metadata": {},
   "outputs": [],
   "source": [
    "len(results)"
   ]
  },
  {
   "cell_type": "code",
   "execution_count": null,
   "metadata": {},
   "outputs": [],
   "source": [
    "results[0]"
   ]
  },
  {
   "cell_type": "code",
   "execution_count": null,
   "metadata": {},
   "outputs": [],
   "source": [
    "results[10]"
   ]
  },
  {
   "cell_type": "code",
   "execution_count": null,
   "metadata": {},
   "outputs": [],
   "source": [
    "for row in results:\n",
    "    support = row[1]\n",
    "    ordered_stat = row[2]\n",
    "    for ordered_item in ordered_stat:\n",
    "        lhs = [x for x in ordered_item[0]]\n",
    "        rhs = [x for x in ordered_item[1]]\n",
    "        confidence = ordered_item[2]\n",
    "        lift = ordered_item[3]\n",
    "        print(lhs, \" => \", rhs, \"\\t{:>5.4f}\\t{:>5.4f}\\t{:>5.4f}\".format(support, confidence, lift))"
   ]
  },
  {
   "cell_type": "code",
   "execution_count": null,
   "metadata": {},
   "outputs": [],
   "source": [
    "import pandas as pd\n",
    "df = pd.DataFrame(None, columns=[\"lhs\", \"rhs\", \"support\", \"confidence\", \"lift\"])\n",
    "index = 0\n",
    "for row in results:\n",
    "    support = row[1]\n",
    "    ordered_stat = row[2]\n",
    "    for ordered_item in ordered_stat:\n",
    "        lhs = \" \".join(x.strip() for x in ordered_item[0])\n",
    "        rhs = \" \".join(x.strip() for x in ordered_item[1])\n",
    "        confidence = ordered_item[2]\n",
    "        lift = ordered_item[3]\n",
    "        df.loc[index] = [lhs, rhs, support, confidence, lift]\n",
    "        index = index + 1"
   ]
  },
  {
   "cell_type": "code",
   "execution_count": null,
   "metadata": {},
   "outputs": [],
   "source": [
    "df.sort_values(by = [\"lift\"], ascending = False).head()   #연관규칙을 향상도(lift)의 내림차순으로 정렬"
   ]
  },
  {
   "cell_type": "code",
   "execution_count": null,
   "metadata": {},
   "outputs": [],
   "source": [
    "df.loc[df.lhs == \"\"].sort_values(by = [\"support\"], ascending = False)   #가장 많이 구매한 아이템 순으로 내림차순 정렬"
   ]
  },
  {
   "cell_type": "code",
   "execution_count": null,
   "metadata": {},
   "outputs": [],
   "source": [
    "df.loc[df.lhs==\"\"].sort_values(by = [\"support\"], ascending = False)   #가장 많이 팔린 두 제품은?"
   ]
  },
  {
   "cell_type": "code",
   "execution_count": null,
   "metadata": {},
   "outputs": [],
   "source": [
    "#가장 많이 팔린 두 제품사이의 신뢰도와 향상도는?\n",
    "df.loc[(df.lhs==\"clothes\") & (df.rhs==\"snack\")].sort_values(by=[\"support\"],\tascending=False)  "
   ]
  },
  {
   "cell_type": "code",
   "execution_count": null,
   "metadata": {},
   "outputs": [],
   "source": [
    "df.loc[(df.lhs==\"snack\") & (df.rhs==\"clothes\")].sort_values(by=[\"support\"], ascending=False)"
   ]
  },
  {
   "cell_type": "code",
   "execution_count": null,
   "metadata": {},
   "outputs": [],
   "source": [
    "#두 제품(clothes와 snack)을 포함하는 제품들 사이의 신뢰도와 향상도는?\n",
    "df.loc[(df.lhs.str.contains(\"snack\")) & (df.rhs==\"clothes\")].sort_values(by=[\"support\"], ascending=False)"
   ]
  },
  {
   "cell_type": "code",
   "execution_count": null,
   "metadata": {},
   "outputs": [],
   "source": [
    "df.loc[(df.lhs.str.contains(\"clothes\")) & (df.rhs==\"snack\")].sort_values(by=[\"support\"], ascending=False)"
   ]
  },
  {
   "cell_type": "markdown",
   "metadata": {},
   "source": [
    "# Exercise\n",
    "#### https://github.com/swacademy/NLP-Lab/tree/master/Chapter6/basket1.csv\n",
    "#### 연관분석을 수행하기"
   ]
  }
 ],
 "metadata": {
  "kernelspec": {
   "display_name": "Python 3",
   "language": "python",
   "name": "python3"
  },
  "language_info": {
   "codemirror_mode": {
    "name": "ipython",
    "version": 3
   },
   "file_extension": ".py",
   "mimetype": "text/x-python",
   "name": "python",
   "nbconvert_exporter": "python",
   "pygments_lexer": "ipython3",
   "version": "3.7.3"
  }
 },
 "nbformat": 4,
 "nbformat_minor": 2
}
