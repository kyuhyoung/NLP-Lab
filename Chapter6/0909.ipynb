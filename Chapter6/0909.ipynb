{
 "cells": [
  {
   "cell_type": "code",
   "execution_count": 21,
   "metadata": {},
   "outputs": [
    {
     "data": {
      "text/plain": [
       "' Chief Justice Roberts, President Carter, President Clinton, President Bush, President Obama, fellow'"
      ]
     },
     "execution_count": 21,
     "metadata": {},
     "output_type": "execute_result"
    }
   ],
   "source": [
    "path = '/home/instructor/Downloads/트럼프취임연설문.txt'\n",
    "mycontents = None\n",
    "with open(path, 'r') as f:\n",
    "    mycontents = f.read()\n",
    "    \n",
    "mycontents[0:100]"
   ]
  },
  {
   "cell_type": "code",
   "execution_count": 22,
   "metadata": {},
   "outputs": [],
   "source": [
    "from nltk.stem.porter import PorterStemmer\n",
    "from nltk.tokenize import RegexpTokenizer\n",
    "from nltk.corpus import stopwords"
   ]
  },
  {
   "cell_type": "code",
   "execution_count": 23,
   "metadata": {},
   "outputs": [],
   "source": [
    "mytoken = RegexpTokenizer(r'[\\w]+')   \n",
    "mystopwords = stopwords.words('english')"
   ]
  },
  {
   "cell_type": "code",
   "execution_count": 24,
   "metadata": {},
   "outputs": [],
   "source": [
    "mycontents = mycontents.lower()   #소문자 변환"
   ]
  },
  {
   "cell_type": "code",
   "execution_count": 25,
   "metadata": {},
   "outputs": [],
   "source": [
    "result = mytoken.tokenize(mycontents)\n",
    "result = [word for word in result if len(word) > 2]\n",
    "result = [word for word in result if word not in mystopwords]"
   ]
  },
  {
   "cell_type": "code",
   "execution_count": 27,
   "metadata": {},
   "outputs": [
    {
     "data": {
      "text/plain": [
       "america     20\n",
       "american    11\n",
       "people      10\n",
       "country      9\n",
       "one          8\n",
       "nation       7\n",
       "every        7\n",
       "great        6\n",
       "back         6\n",
       "new          6\n",
       "dtype: int64"
      ]
     },
     "execution_count": 27,
     "metadata": {},
     "output_type": "execute_result"
    }
   ],
   "source": [
    "import pandas as pd\n",
    "pd.Series(result).value_counts().head(10)"
   ]
  },
  {
   "cell_type": "code",
   "execution_count": 14,
   "metadata": {},
   "outputs": [
    {
     "data": {
      "text/plain": [
       "'존경하고 사랑하는 국민 여러분. 감사합니다. 국민 여러분의 위대한 선택에 머리 숙여 깊이 감사드립니다. 저는 오늘 대한민국 제 19대 대통령으로서 새로운 대한민국을 향해 첫걸음을 '"
      ]
     },
     "execution_count": 14,
     "metadata": {},
     "output_type": "execute_result"
    }
   ],
   "source": [
    "path = '/home/instructor/Downloads/문재인대통령취임연설문.txt'\n",
    "with open(path, 'r', encoding='euc-kr') as f:\n",
    "    mycontents = f.read()\n",
    "    \n",
    "mycontents[0:100]"
   ]
  },
  {
   "cell_type": "code",
   "execution_count": 15,
   "metadata": {},
   "outputs": [],
   "source": [
    "from konlpy.tag import Mecab"
   ]
  },
  {
   "cell_type": "code",
   "execution_count": 16,
   "metadata": {},
   "outputs": [],
   "source": [
    "mecab = Mecab()"
   ]
  },
  {
   "cell_type": "code",
   "execution_count": 17,
   "metadata": {},
   "outputs": [],
   "source": [
    "result = [word for word in mecab.nouns(mycontents) \\\n",
    "          if len(word) > 1]   #한글자 제외"
   ]
  },
  {
   "cell_type": "code",
   "execution_count": 28,
   "metadata": {},
   "outputs": [],
   "source": [
    "mylist = []\n",
    "keys = pd.Series(result).value_counts().index"
   ]
  },
  {
   "cell_type": "code",
   "execution_count": 29,
   "metadata": {
    "scrolled": true
   },
   "outputs": [
    {
     "data": {
      "text/plain": [
       "[{'america': 20}, {'american': 11}, {'people': 10}]"
      ]
     },
     "execution_count": 29,
     "metadata": {},
     "output_type": "execute_result"
    }
   ],
   "source": [
    "for key in keys :\n",
    "    value = pd.Series(result).value_counts().loc[key]\n",
    "    mylist.append({key : value})\n",
    "    \n",
    "mylist[:3]"
   ]
  },
  {
   "cell_type": "code",
   "execution_count": 30,
   "metadata": {},
   "outputs": [
    {
     "name": "stdout",
     "output_type": "stream",
     "text": [
      "{'america': 1, 'american': 2, 'people': 3, 'country': 4, 'one': 5, 'nation': 6, 'every': 7, 'great': 8, 'back': 9, 'new': 10, 'world': 11, 'never': 12, 'president': 13, 'many': 14, 'make': 15, 'god': 16, 'right': 17, 'across': 18, 'protected': 19, 'today': 20, 'dreams': 21, 'first': 22, 'together': 23, 'americans': 24, 'everyone': 25, 'power': 26, 'bring': 27, 'day': 28, 'heart': 29, 'thank': 30, 'wealth': 31, 'citizens': 32, 'government': 33, 'foreign': 34, 'left': 35, 'united': 36, 'millions': 37, 'countries': 38, 'bless': 39, 'factories': 40, 'whether': 41, 'families': 42, 'nations': 43, 'jobs': 44, 'borders': 45, 'obama': 46, 'must': 47}\n"
     ]
    }
   ],
   "source": [
    "myresult = {}\n",
    "i = 0\n",
    "for item in mylist:\n",
    "    for key in item :\n",
    "        value = item[key]\n",
    "        if value > 2 : \n",
    "            i = i + 1\n",
    "            #print('{}, {}, {}'.format(key, value, i))\n",
    "            myresult[key] = i\n",
    "            break\n",
    "\n",
    "print(myresult)"
   ]
  },
  {
   "cell_type": "code",
   "execution_count": null,
   "metadata": {},
   "outputs": [],
   "source": []
  }
 ],
 "metadata": {
  "kernelspec": {
   "display_name": "Python 3",
   "language": "python",
   "name": "python3"
  },
  "language_info": {
   "codemirror_mode": {
    "name": "ipython",
    "version": 3
   },
   "file_extension": ".py",
   "mimetype": "text/x-python",
   "name": "python",
   "nbconvert_exporter": "python",
   "pygments_lexer": "ipython3",
   "version": "3.7.3"
  }
 },
 "nbformat": 4,
 "nbformat_minor": 2
}
