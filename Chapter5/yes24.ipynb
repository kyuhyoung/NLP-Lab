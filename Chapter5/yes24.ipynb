{
 "cells": [
  {
   "cell_type": "code",
   "execution_count": 35,
   "metadata": {},
   "outputs": [],
   "source": [
    "import requests\n",
    "from bs4 import BeautifulSoup"
   ]
  },
  {
   "cell_type": "code",
   "execution_count": 36,
   "metadata": {},
   "outputs": [],
   "source": [
    "url = 'http://www.yes24.com/24/category/bestseller?CategoryNumber=001'\n",
    "yes24 = requests.get(url)"
   ]
  },
  {
   "cell_type": "code",
   "execution_count": 37,
   "metadata": {},
   "outputs": [],
   "source": [
    "bs = BeautifulSoup(yes24.text)\n",
    "titlelist = []\n",
    "authorlist = []\n",
    "publisherlist = []\n",
    "pricelist = []"
   ]
  },
  {
   "cell_type": "code",
   "execution_count": 38,
   "metadata": {},
   "outputs": [],
   "source": [
    "for i in range(1, 21):\n",
    "    idx = None\n",
    "    if(i == 19 or i == 20) : idx = str(i) + '_line'\n",
    "    else : idx = str(i)\n",
    "    title = bs.find('ol', class_ = '') \\\n",
    "            .find('li', class_ = 'num' + idx) \\\n",
    "            .find_all('p')[2].text\n",
    "    title = title.replace('[도서] ', '')\n",
    "    titlelist.append(title.strip())"
   ]
  },
  {
   "cell_type": "code",
   "execution_count": 39,
   "metadata": {},
   "outputs": [],
   "source": [
    "for i in range(1, 21):\n",
    "    idx = None\n",
    "    if(i == 19 or i == 20) : idx = str(i) + '_line'\n",
    "    else : idx = str(i)\n",
    "    author = bs.find('ol', class_ = '') \\\n",
    "                .find('li', class_ = 'num' + idx) \\\n",
    "                .find('p', class_ = 'aupu').text\n",
    "    author = author.split('|')[0].strip()\n",
    "    authorlist.append(author)"
   ]
  },
  {
   "cell_type": "code",
   "execution_count": 40,
   "metadata": {},
   "outputs": [],
   "source": [
    "for i in range(1, 21):\n",
    "    idx = None\n",
    "    if(i == 19 or i == 20) : idx = str(i) + '_line'\n",
    "    else : idx = str(i)\n",
    "    price = bs.find('ol', class_ = '') \\\n",
    "            .find('li', class_ = 'num' + idx) \\\n",
    "            .find('p', class_ = 'price').text\n",
    "    price = price.split('원')[0]\n",
    "    pricelist.append(price)"
   ]
  },
  {
   "cell_type": "code",
   "execution_count": 41,
   "metadata": {},
   "outputs": [],
   "source": [
    "for i in range(1, 21):\n",
    "    idx = None\n",
    "    if(i == 19 or i == 20) : idx = str(i) + '_line'\n",
    "    else : idx = str(i)\n",
    "    publisher = bs.find('ol', class_ = '') \\\n",
    "            .find('li', class_ = 'num' + idx) \\\n",
    "            .find('p', class_ = 'aupu').text\n",
    "    publisher = publisher.split('|')[1]\n",
    "    publisherlist.append(publisher)"
   ]
  },
  {
   "cell_type": "code",
   "execution_count": 42,
   "metadata": {},
   "outputs": [],
   "source": [
    "import pandas as pd\n",
    "\n",
    "df = pd.DataFrame(titlelist, columns = ['Title'])"
   ]
  },
  {
   "cell_type": "code",
   "execution_count": 43,
   "metadata": {},
   "outputs": [],
   "source": [
    "df['Author'] = authorlist\n",
    "df['Publisher'] = publisherlist\n",
    "df['Price'] = pricelist"
   ]
  },
  {
   "cell_type": "code",
   "execution_count": 44,
   "metadata": {},
   "outputs": [
    {
     "data": {
      "text/html": [
       "<div>\n",
       "<style scoped>\n",
       "    .dataframe tbody tr th:only-of-type {\n",
       "        vertical-align: middle;\n",
       "    }\n",
       "\n",
       "    .dataframe tbody tr th {\n",
       "        vertical-align: top;\n",
       "    }\n",
       "\n",
       "    .dataframe thead th {\n",
       "        text-align: right;\n",
       "    }\n",
       "</style>\n",
       "<table border=\"1\" class=\"dataframe\">\n",
       "  <thead>\n",
       "    <tr style=\"text-align: right;\">\n",
       "      <th></th>\n",
       "      <th>Title</th>\n",
       "      <th>Author</th>\n",
       "      <th>Publisher</th>\n",
       "      <th>Price</th>\n",
       "    </tr>\n",
       "  </thead>\n",
       "  <tbody>\n",
       "    <tr>\n",
       "      <th>0</th>\n",
       "      <td>흔한남매 2</td>\n",
       "      <td>흔한남매 원저/백난도 글/유난희 그림/샌드박스네트워크 감수</td>\n",
       "      <td>미래엔아이세움</td>\n",
       "      <td>9,900</td>\n",
       "    </tr>\n",
       "    <tr>\n",
       "      <th>1</th>\n",
       "      <td>당신은 뇌를 고칠 수 있다</td>\n",
       "      <td>톰 오브라이언 저/이시은 역</td>\n",
       "      <td>브론스테인</td>\n",
       "      <td>17,820</td>\n",
       "    </tr>\n",
       "    <tr>\n",
       "      <th>2</th>\n",
       "      <td>90년생이 온다 (YES24 단독 스페셜 에디션)</td>\n",
       "      <td>임홍택 저</td>\n",
       "      <td>웨일북</td>\n",
       "      <td>12,600</td>\n",
       "    </tr>\n",
       "    <tr>\n",
       "      <th>3</th>\n",
       "      <td>설민석의 삼국지 2</td>\n",
       "      <td>설민석 저</td>\n",
       "      <td>세계사</td>\n",
       "      <td>19,800</td>\n",
       "    </tr>\n",
       "    <tr>\n",
       "      <th>4</th>\n",
       "      <td>설민석의 삼국지 1</td>\n",
       "      <td>설민석 저</td>\n",
       "      <td>세계사</td>\n",
       "      <td>19,800</td>\n",
       "    </tr>\n",
       "  </tbody>\n",
       "</table>\n",
       "</div>"
      ],
      "text/plain": [
       "                         Title                            Author Publisher  \\\n",
       "0                       흔한남매 2  흔한남매 원저/백난도 글/유난희 그림/샌드박스네트워크 감수   미래엔아이세움   \n",
       "1               당신은 뇌를 고칠 수 있다                   톰 오브라이언 저/이시은 역     브론스테인   \n",
       "2  90년생이 온다 (YES24 단독 스페셜 에디션)                             임홍택 저       웨일북   \n",
       "3                   설민석의 삼국지 2                             설민석 저       세계사   \n",
       "4                   설민석의 삼국지 1                             설민석 저       세계사   \n",
       "\n",
       "    Price  \n",
       "0   9,900  \n",
       "1  17,820  \n",
       "2  12,600  \n",
       "3  19,800  \n",
       "4  19,800  "
      ]
     },
     "execution_count": 44,
     "metadata": {},
     "output_type": "execute_result"
    }
   ],
   "source": [
    "df.head()"
   ]
  },
  {
   "cell_type": "code",
   "execution_count": null,
   "metadata": {},
   "outputs": [],
   "source": []
  }
 ],
 "metadata": {
  "kernelspec": {
   "display_name": "Python 3",
   "language": "python",
   "name": "python3"
  },
  "language_info": {
   "codemirror_mode": {
    "name": "ipython",
    "version": 3
   },
   "file_extension": ".py",
   "mimetype": "text/x-python",
   "name": "python",
   "nbconvert_exporter": "python",
   "pygments_lexer": "ipython3",
   "version": "3.7.3"
  }
 },
 "nbformat": 4,
 "nbformat_minor": 2
}
