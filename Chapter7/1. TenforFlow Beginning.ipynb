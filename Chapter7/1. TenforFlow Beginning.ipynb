{
 "cells": [
  {
   "cell_type": "markdown",
   "metadata": {},
   "source": [
    "# TensorFlow 기초다지기"
   ]
  },
  {
   "cell_type": "code",
   "execution_count": null,
   "metadata": {},
   "outputs": [],
   "source": [
    "import tensorflow as tf\n",
    "\n",
    "tf.__version__"
   ]
  },
  {
   "cell_type": "code",
   "execution_count": null,
   "metadata": {},
   "outputs": [],
   "source": [
    "import tensor"
   ]
  },
  {
   "cell_type": "code",
   "execution_count": null,
   "metadata": {},
   "outputs": [],
   "source": [
    "import tensorflow as tf"
   ]
  },
  {
   "cell_type": "code",
   "execution_count": null,
   "metadata": {},
   "outputs": [],
   "source": [
    "hello = tf.constant('Hello, TensorFlow')\n",
    "print(hello)"
   ]
  },
  {
   "cell_type": "code",
   "execution_count": null,
   "metadata": {},
   "outputs": [],
   "source": [
    "a = tf.constant(10)\n",
    "b = tf.constant(32)\n",
    "c = tf.add(a, b)\n",
    "print(c)"
   ]
  },
  {
   "cell_type": "code",
   "execution_count": null,
   "metadata": {},
   "outputs": [],
   "source": [
    "sess = tf.Session()\n",
    "print(sess.run(hello))\n",
    "print(sess.run([a, b, c]))"
   ]
  },
  {
   "cell_type": "code",
   "execution_count": null,
   "metadata": {},
   "outputs": [],
   "source": [
    "sess.close()"
   ]
  },
  {
   "cell_type": "markdown",
   "metadata": {},
   "source": [
    "### Session"
   ]
  },
  {
   "cell_type": "code",
   "execution_count": null,
   "metadata": {},
   "outputs": [],
   "source": [
    "import tensorflow as tf\n",
    "a = 2\n",
    "b = 3\n",
    "c = tf.add(a, b, name = 'Add')\n",
    "print(c)"
   ]
  },
  {
   "cell_type": "code",
   "execution_count": null,
   "metadata": {},
   "outputs": [],
   "source": [
    "import tensorflow as tf\n",
    "#tf.reset_default_graph()\n",
    "x = 2\n",
    "y = 3\n",
    "add_op = tf.add(x, y, name = 'Add')\n",
    "mul_op = tf.multiply(x, y, name = 'Multiply')\n",
    "pow_op = tf.pow(add_op, mul_op, name = 'Power')\n",
    "useless_op = tf.multiply(x, add_op, name = 'Useless')\n",
    "\n",
    "with tf.Session() as sess:\n",
    "#    writer = tf.summary.FileWriter('./graphs', sess.graph)\n",
    "    pow_out, useless_out = sess.run([pow_op, useless_op])\n",
    "    \n",
    "print(pow_out, useless_out)"
   ]
  },
  {
   "cell_type": "code",
   "execution_count": null,
   "metadata": {},
   "outputs": [],
   "source": [
    "#! tensorboard --logdir='./graphs' --port 6006"
   ]
  },
  {
   "cell_type": "markdown",
   "metadata": {},
   "source": [
    "## fetch"
   ]
  },
  {
   "cell_type": "code",
   "execution_count": null,
   "metadata": {},
   "outputs": [],
   "source": [
    "import tensorflow as tf\n",
    "\n",
    "input1 = tf.constant(3.0)\n",
    "input2 = tf.constant(2.0)\n",
    "input3= tf.constant(5.0)\n",
    "intermed = tf.add(input2, input3)\n",
    "mul = tf.multiply(input1, intermed)\n",
    "with tf.Session() as sess:\n",
    "    result = sess.run([mul, intermed])\n",
    "    print(result)"
   ]
  },
  {
   "cell_type": "code",
   "execution_count": null,
   "metadata": {},
   "outputs": [],
   "source": [
    "import tensorflow as tf\n",
    "\n",
    "a = tf.placeholder('float')\n",
    "b = tf.placeholder('float')\n",
    "\n",
    "y = tf.multiply(a, b)\n",
    "z = tf.add(y, y)\n",
    "\n",
    "elems = tf.Variable([1.0, 2.0, 2.0, 2.0])\n",
    "\n",
    "with tf.Session() as sess:\n",
    "    sess.run(tf.global_variables_initializer())\n",
    "    # feed로 호출하기\n",
    "    print(sess.run(y, feed_dict={a:3, b:3}))\n",
    "    #placeholder를 다시 사용할 때는 재할당 필요\n",
    "    print(sess.run(z, feed_dict={a:4, b:4}))\n",
    "    # fetch로 호출하기\n",
    "    print(sess.run(elems))"
   ]
  },
  {
   "cell_type": "code",
   "execution_count": null,
   "metadata": {},
   "outputs": [],
   "source": [
    "import tensorflow as tf\n",
    "\n",
    "input1 = tf.placeholder(tf.float32)\n",
    "input2 = tf.placeholder(tf.float32)\n",
    "output = tf.multiply(input1, input2)\n",
    "\n",
    "with tf.Session() as sess:\n",
    "    print(sess.run([output], feed_dict={input1:[7,], input2:[2.]}))"
   ]
  },
  {
   "cell_type": "markdown",
   "metadata": {},
   "source": [
    "## TensorFlow Constant"
   ]
  },
  {
   "cell_type": "code",
   "execution_count": null,
   "metadata": {},
   "outputs": [],
   "source": [
    "import tensorflow as tf"
   ]
  },
  {
   "cell_type": "code",
   "execution_count": null,
   "metadata": {},
   "outputs": [],
   "source": [
    "a = tf.constant(2, name = 'A')\n",
    "b = tf.constant(3, name = 'B')\n",
    "c = tf.add(a, b, name = 'Sum')\n",
    "\n",
    "with tf.Session() as sess:\n",
    "    print(sess.run(c))"
   ]
  },
  {
   "cell_type": "code",
   "execution_count": null,
   "metadata": {},
   "outputs": [],
   "source": [
    "import tensorflow as tf\n",
    "s = tf.constant(2.3, name = 'scalar', dtype=tf.float32)\n",
    "m = tf.constant([[1,2], [3,4]], name = 'matrix')\n",
    "\n",
    "with tf.Session() as sess:\n",
    "    print(sess.run(s))\n",
    "    print(sess.run(m))"
   ]
  },
  {
   "cell_type": "markdown",
   "metadata": {},
   "source": [
    "## TensorFlow Variable"
   ]
  },
  {
   "cell_type": "code",
   "execution_count": null,
   "metadata": {},
   "outputs": [],
   "source": [
    "import tensorflow as tf\n",
    "\n",
    "# s = tf.Variable(2, name = 'scalar')\n",
    "# m = tf.Variable([[1,2], [3,4]], name = 'matrix')\n",
    "# w = tf.Variable(tf.zeros([784, 10]))\n",
    "\n",
    "s = tf.get_variable('scalar', initializer=tf.constant(2))\n",
    "m = tf.get_variable('matrix', initializer = tf.constant([[1,2], [3,4]]))\n",
    "w = tf.get_variable('weight_matrix', shape=(784, 10), initializer=tf.zeros_initializer())"
   ]
  },
  {
   "cell_type": "code",
   "execution_count": null,
   "metadata": {},
   "outputs": [],
   "source": [
    "import tensorflow as tf\n",
    "\n",
    "a = tf.get_variable('var_1', initializer=tf.constant(2))\n",
    "b = tf.get_variable('var_2', initializer=tf.constant(3))\n",
    "c = tf.add(a, b, name = 'Add1')\n",
    "\n",
    "with tf.Session() as sess:\n",
    "    print(sess.run(a))\n",
    "    print(sess.run(b))\n",
    "    print(sess.run(c))"
   ]
  },
  {
   "cell_type": "code",
   "execution_count": null,
   "metadata": {},
   "outputs": [],
   "source": [
    "import tensorflow as tf\n",
    "\n",
    "a = tf.get_variable('A', initializer=tf.constant(2))\n",
    "b = tf.get_variable('B', initializer=tf.constant(3))\n",
    "c = tf.add(a, b, name = 'Add')\n",
    "\n",
    "init_op = tf.global_variables_initializer()\n",
    "\n",
    "with tf.Session() as sess:\n",
    "    sess.run(init_op)\n",
    "    print(sess.run(a))\n",
    "    print(sess.run(b))\n",
    "    print(sess.run(c))"
   ]
  },
  {
   "cell_type": "code",
   "execution_count": null,
   "metadata": {},
   "outputs": [],
   "source": [
    "import tensorflow as tf\n",
    "\n",
    "weights = tf.get_variable(name = 'W', shape=[2,3], \\\n",
    "                          initializer=tf.truncated_normal_initializer(stddev=0.01))\n",
    "biases = tf.get_variable(name = 'b', shape=[3], initializer=tf.zeros_initializer())\n",
    "\n",
    "init_op = tf.global_variables_initializer()\n",
    "\n",
    "with tf.Session() as sess:\n",
    "    sess.run(init_op)\n",
    "    \n",
    "    W, b = sess.run([weights, biases])\n",
    "    print('weights = {}'.format(W))\n",
    "    print('biases = {}'.format(b))"
   ]
  },
  {
   "cell_type": "markdown",
   "metadata": {},
   "source": [
    "## TensorFlow Placeholer"
   ]
  },
  {
   "cell_type": "code",
   "execution_count": null,
   "metadata": {},
   "outputs": [],
   "source": [
    "import tensorflow as tf\n",
    "\n",
    "a = tf.constant([5,5,5], tf.float32, name='A')\n",
    "b = tf.placeholder(tf.float32, shape=[3], name='B')\n",
    "c = tf.add(a, b, name = 'Add')\n",
    "\n",
    "with tf.Session() as sess:\n",
    "    print(sess.run(c))"
   ]
  },
  {
   "cell_type": "code",
   "execution_count": null,
   "metadata": {},
   "outputs": [],
   "source": [
    "import tensorflow as tf\n",
    "\n",
    "a = tf.constant([5,5,5], tf.float32, name='A')\n",
    "b = tf.placeholder(tf.float32, shape=[3], name='B')\n",
    "c = tf.add(a, b, name = 'Add')\n",
    "\n",
    "with tf.Session() as sess:\n",
    "    d = {b:[1,2,3]}\n",
    "    print(sess.run(c, feed_dict=d))"
   ]
  },
  {
   "cell_type": "code",
   "execution_count": null,
   "metadata": {},
   "outputs": [],
   "source": [
    "import tensorflow as tf\n",
    "\n",
    "#None은 크기가 정해지지 않았음을 의미\n",
    "X = tf.placeholder(tf.float32, [None, 3])  \n",
    "print(X)"
   ]
  },
  {
   "cell_type": "code",
   "execution_count": null,
   "metadata": {},
   "outputs": [],
   "source": [
    "x_data = [[1,2,3], [4,5,6]]\n",
    "#나중에 X에 값을 넣을 것임.반드시 2번째 인사는 값이 3개여야 함."
   ]
  },
  {
   "cell_type": "code",
   "execution_count": null,
   "metadata": {},
   "outputs": [],
   "source": [
    "W = tf.Variable(tf.random_normal([3,2]))\n",
    "b = tf.Variable(tf.random_normal([2,1]))"
   ]
  },
  {
   "cell_type": "code",
   "execution_count": null,
   "metadata": {},
   "outputs": [],
   "source": [
    "expr = tf.matmul(X, W) + b"
   ]
  },
  {
   "cell_type": "code",
   "execution_count": null,
   "metadata": {},
   "outputs": [],
   "source": [
    "sess = tf.Session()\n",
    "sess.run(tf.global_variables_initializer())\n",
    "\n",
    "print('=== x_data ===')\n",
    "print(x_data)\n",
    "print('=== W ===')\n",
    "print(sess.run(W))\n",
    "print('=== b ===')\n",
    "print(sess.run(b))\n",
    "print('=== expr ===')\n",
    "print(sess.run(expr, feed_dict={X:x_data}))\n",
    "\n",
    "sess.close()"
   ]
  },
  {
   "cell_type": "markdown",
   "metadata": {},
   "source": [
    "## TensorFlow Strings"
   ]
  },
  {
   "cell_type": "code",
   "execution_count": null,
   "metadata": {},
   "outputs": [],
   "source": [
    "import tensorflow as tf\n",
    "\n",
    "sess = tf.Session()\n",
    "hello = tf.constant('Hello, TensorFlow')\n",
    "print(sess.run(hello))\n",
    "print(str(sess.run(hello), encoding='utf-8'))\n",
    "sess.close()"
   ]
  },
  {
   "cell_type": "markdown",
   "metadata": {},
   "source": [
    "## TensorFlow Building/실행 구조"
   ]
  },
  {
   "cell_type": "code",
   "execution_count": null,
   "metadata": {},
   "outputs": [],
   "source": [
    "import tensorflow as tf\n",
    "\n",
    "x = tf.constant(35, name = 'x')\n",
    "y = tf.Variable(x + 5, name = 'y')\n",
    "\n",
    "model = tf.global_variables_initializer()\n",
    "\n",
    "with tf.Session() as sess:\n",
    "    sess.run(model)\n",
    "    print(sess.run(y))"
   ]
  },
  {
   "cell_type": "code",
   "execution_count": null,
   "metadata": {},
   "outputs": [],
   "source": [
    "import tensorflow as tf\n",
    "\n",
    "x2 = tf.linspace(-1.0, 1.0, 10)\n",
    "print(x2)\n",
    "\n",
    "g = tf.get_default_graph()\n",
    "print([op.name for op in g.get_operations()])\n",
    "\n",
    "sess = tf.Session()\n",
    "print(sess.run(x2))\n",
    "sess.close()"
   ]
  },
  {
   "cell_type": "markdown",
   "metadata": {},
   "source": [
    "## TensorBoard"
   ]
  },
  {
   "cell_type": "code",
   "execution_count": null,
   "metadata": {},
   "outputs": [],
   "source": [
    "import tensorflow as tf\n",
    "a = tf.add(1,2)\n",
    "b = tf.multiply(a, 3)\n",
    "c = tf.add(4, 5)\n",
    "d = tf.multiply(c, 6)\n",
    "e = tf.multiply(4, 5)\n",
    "f = tf.math.divide(c, 6)\n",
    "g = tf.add(b, d)\n",
    "g = tf.cast(g, dtype=tf.float64)\n",
    "h = tf.multiply(g, f)\n",
    "with tf.Session() as sess:\n",
    "    writer = tf.summary.FileWriter(r'./graphs/sample', sess.graph)\n",
    "    print(sess.run(h))\n",
    "    writer.close()"
   ]
  },
  {
   "cell_type": "markdown",
   "metadata": {},
   "source": [
    "## assert() 처리하기"
   ]
  },
  {
   "cell_type": "code",
   "execution_count": null,
   "metadata": {},
   "outputs": [],
   "source": [
    "assert 2 + 2 == 4, \"Houston we've got a problem\"\n",
    "assert 2 + 2 == 3, \"Houston we've got a problem\""
   ]
  },
  {
   "cell_type": "code",
   "execution_count": null,
   "metadata": {},
   "outputs": [],
   "source": [
    "import tensorflow as tf\n",
    "#tf.assert_negative(x, data=None, summarize=None, message=None, name=None)\n",
    "\n",
    "x = tf.constant([-2.25, -3.25])\n",
    "y = tf.assert_negative(x)\n",
    "\n",
    "#tf.assert_positive(x, data=None, summarize=None, message=None, name=None)\n",
    "xp = tf.constant([2.25, 3.25])\n",
    "yp = tf.assert_positive(xp)\n",
    "\n",
    "with tf.Session() as sess:\n",
    "    print('y ', type(y))\n",
    "    print(y.run())\n",
    "    print('yp ', type(yp))\n",
    "    print(yp.run())"
   ]
  },
  {
   "cell_type": "code",
   "execution_count": null,
   "metadata": {},
   "outputs": [],
   "source": [
    "import tensorflow as tf\n",
    "#tf.assert_negative(x, data=None, summarize=None, message=None, name=None)\n",
    "\n",
    "x = tf.constant([-2.25, -3.25])\n",
    "y = tf.assert_negative(x)\n",
    "\n",
    "#tf.assert_positive(x, data=None, summarize=None, message=None, name=None)\n",
    "xp = tf.constant([-2.25, 3.25])\n",
    "yp = tf.assert_positive(xp)\n",
    "\n",
    "with tf.Session() as sess:\n",
    "    print('y ', type(y))\n",
    "    print(y.run())\n",
    "    print('yp ', type(yp))\n",
    "    print(yp.run())"
   ]
  },
  {
   "cell_type": "markdown",
   "metadata": {},
   "source": [
    "## 행렬의 기본 개념 훑어보기"
   ]
  },
  {
   "cell_type": "markdown",
   "metadata": {},
   "source": [
    "![Matrix](./img/matrix.png)"
   ]
  },
  {
   "cell_type": "markdown",
   "metadata": {},
   "source": [
    "### 1) 덧셈, 뺄셈"
   ]
  },
  {
   "cell_type": "code",
   "execution_count": null,
   "metadata": {},
   "outputs": [],
   "source": [
    "import tensorflow as tf\n",
    "\n",
    "a = tf.constant([[1,2], [2,3]])\n",
    "b = tf.constant([[1,2], [2,3]])\n",
    "add = tf.add(a, b)\n",
    "sub = tf.subtract(a, b)\n",
    "\n",
    "#Session 정의\n",
    "sess = tf.Session()\n",
    "\n",
    "#실제 연산\n",
    "result = sess.run(add)\n",
    "print(result)\n",
    "sess.close()"
   ]
  },
  {
   "cell_type": "code",
   "execution_count": null,
   "metadata": {},
   "outputs": [],
   "source": [
    "type(a)"
   ]
  },
  {
   "cell_type": "markdown",
   "metadata": {},
   "source": [
    "### 2) 곱셈. 행렬의 곱셈"
   ]
  },
  {
   "cell_type": "markdown",
   "metadata": {},
   "source": [
    "![Matrix1](./img/matrix1.png)"
   ]
  },
  {
   "cell_type": "code",
   "execution_count": null,
   "metadata": {},
   "outputs": [],
   "source": [
    "import tensorflow as tf\n",
    "\n",
    "a = tf.constant([[1,2], [3,4]])\n",
    "b = tf.constant([[1,2], [3,4]])\n",
    "y1 = tf.multiply(a, b)\n",
    "y2 = tf.matmul(a, b)\n",
    "\n",
    "sess = tf.Session()\n",
    "y1_out = sess.run(y1)\n",
    "y2_out= sess.run(y2)\n",
    "print(y1_out)\n",
    "print(y2_out)\n",
    "\n",
    "sess.close()"
   ]
  },
  {
   "cell_type": "markdown",
   "metadata": {},
   "source": [
    "### 3) 나눗셈"
   ]
  },
  {
   "cell_type": "markdown",
   "metadata": {},
   "source": [
    "![Matrix2](./img/matrix2.png)"
   ]
  },
  {
   "cell_type": "code",
   "execution_count": null,
   "metadata": {},
   "outputs": [],
   "source": [
    "import tensorflow as tf\n",
    "\n",
    "a = tf.constant([[1,2], [3,4]])\n",
    "b = tf.constant([[1,1], [1,1]])\n",
    "y = tf.math.divide(a, b)\n",
    "\n",
    "sess = tf.Session()\n",
    "y_out = sess.run(y)\n",
    "print(y_out)\n",
    "\n",
    "sess.close()"
   ]
  },
  {
   "cell_type": "markdown",
   "metadata": {},
   "source": [
    "## tensorflow vs numpy"
   ]
  },
  {
   "cell_type": "code",
   "execution_count": null,
   "metadata": {},
   "outputs": [],
   "source": [
    "import tensorflow as tf\n",
    "\n",
    "data = [[1], [2], [3], [4]]\n",
    "print('input data type is ', type(data))\n",
    "\n",
    "a = tf.placeholder(dtype=tf.float32, shape=[None, 1])\n",
    "\n",
    "sess = tf.Session()\n",
    "a_out = sess.run(a, feed_dict={a:data})\n",
    "print('a type is ', type(a_out))\n",
    "sess.close()"
   ]
  },
  {
   "cell_type": "markdown",
   "metadata": {},
   "source": [
    "- placeholder() --> tf.constant()로 선언하지 않았음\n",
    "- tf.placeholder의 특징으로 연산할 때는 반드시 feed_dict={}의 중괄호 내부에 입력되는 변수를 지정하는 것이 특징이다.\n",
    "- 또한 입력되는 tensor의 shape을 지정할 수도 있는데, 여기서는 shape=[None, 1]으로 정의했다.\n",
    "- 4 x 1 행렬이기 때문에, shape=[4,1]으로 지정해도 되지만, shape=[None, 1]으로 정의했다.\n",
    "- 이는 갯수를 알 수 없음을 의미하는 것으로, TensorFlow Machine Learning 학습에서 학습 data가 계속해서 들어오고 학습 때마다 data의 양이 다를 수 있기 때문에, 이를 지정하지 않고 None으로 해놓으면 들어오는 숫자 만큼에 맞춰서 저장한다."
   ]
  },
  {
   "cell_type": "code",
   "execution_count": null,
   "metadata": {},
   "outputs": [],
   "source": [
    "import numpy as np\n",
    "a = [[1,2], [3,4]]\n",
    "b = [[1,2], [3,4]]\n",
    "y1 = np.multiply(a, b)   \n",
    "y2 = np.matmul(a, b)     #TensorFlow와 함수 이름이 동일하다.\n",
    "print(y1)\n",
    "print(y2)"
   ]
  },
  {
   "cell_type": "code",
   "execution_count": null,
   "metadata": {},
   "outputs": [],
   "source": [
    "import numpy as np\n",
    "\n",
    "a = np.zeros((2,2))\n",
    "print(a)\n",
    "\n",
    "b = np.ones((2,2))\n",
    "print(b)\n",
    "\n",
    "#열단위로 합\n",
    "print(np.sum(b, axis = 1))\n",
    "\n",
    "print(a.shape)\n",
    "print(np.reshape(a, (1,4)))"
   ]
  },
  {
   "cell_type": "code",
   "execution_count": null,
   "metadata": {},
   "outputs": [],
   "source": [
    "import tensorflow as tf\n",
    "\n",
    "sess = tf.InteractiveSession()\n",
    "a = tf.zeros((2,2))\n",
    "b = tf.ones((2,2))\n",
    "print(tf.reduce_sum(b, reduction_indices=1).eval())\n",
    "\n",
    "print(a.get_shape())\n",
    "print(tf.reshape(a, (1,4)).eval())\n",
    "\n",
    "sess.close()"
   ]
  },
  {
   "cell_type": "markdown",
   "metadata": {},
   "source": [
    "## Broadcasting과 reshape"
   ]
  },
  {
   "cell_type": "code",
   "execution_count": null,
   "metadata": {},
   "outputs": [],
   "source": [
    "import tensorflow as tf\n",
    "\n",
    "data = [[1,2,3], [2,3,4], [3,4,5], [4,5,6]]\n",
    "a = tf.placeholder(dtype=tf.float32, shape=[None, None])\n",
    "b = tf.Variable([0,1,2], dtype=tf.float32)\n",
    "y = tf.add(a, b)\n",
    "\n",
    "sess = tf.Session()\n",
    "init = tf.global_variables_initializer()   #TensorFlow에서 Variable 사용시 반드시 초기화해야.\n",
    "sess.run(init)\n",
    "y_out = sess.run(y, feed_dict = {a : data})\n",
    "print(y_out)\n",
    "\n",
    "sess.close()"
   ]
  },
  {
   "cell_type": "markdown",
   "metadata": {},
   "source": [
    "- Broadcasting이라는 개념은 아래의 그림과 같다."
   ]
  },
  {
   "cell_type": "markdown",
   "metadata": {},
   "source": [
    "![Matrix3](./img/matrix3.png)"
   ]
  },
  {
   "cell_type": "markdown",
   "metadata": {},
   "source": [
    "- 하지만 다음의 예제에서는 Broadcasting이 안된다."
   ]
  },
  {
   "cell_type": "code",
   "execution_count": null,
   "metadata": {},
   "outputs": [],
   "source": [
    "import tensorflow as tf"
   ]
  },
  {
   "cell_type": "code",
   "execution_count": null,
   "metadata": {},
   "outputs": [],
   "source": [
    "data = [[1,2,3], [2,3,4], [3,4,5], [4,5,6]]\n",
    "a = tf.placeholder(dtype=tf.float32, shape=[None, 3])\n",
    "b = tf.Variable([0,1,2,3], dtype=tf.float32)\n",
    "y = tf.add(a, b)\n",
    "# ValueError: Dimensions must be equal, but are 3 and 4 for 'Add_2' (op: 'Add') with input shapes: [?,3], [4]."
   ]
  },
  {
   "cell_type": "markdown",
   "metadata": {},
   "source": [
    "- 한편, 행렬의 Broadcasting은 반드시 한쪽에서만 일어나는 것은 아니다. 다음 예제를 보자."
   ]
  },
  {
   "cell_type": "code",
   "execution_count": null,
   "metadata": {},
   "outputs": [],
   "source": [
    "import tensorflow as tf"
   ]
  },
  {
   "cell_type": "code",
   "execution_count": null,
   "metadata": {},
   "outputs": [],
   "source": [
    "data = [[1],[2], [3], [4]]\n",
    "a = tf.placeholder(dtype=tf.float32, shape=[4,1])\n",
    "b = tf.Variable([0,1,2], dtype=tf.float32)\n",
    "y = tf.add(a, b)"
   ]
  },
  {
   "cell_type": "code",
   "execution_count": null,
   "metadata": {},
   "outputs": [],
   "source": [
    "sess = tf.Session()\n",
    "init = tf.global_variables_initializer()\n",
    "sess.run(init)"
   ]
  },
  {
   "cell_type": "code",
   "execution_count": null,
   "metadata": {},
   "outputs": [],
   "source": [
    "y_out = sess.run(y, feed_dict={a:data})\n",
    "y_out"
   ]
  },
  {
   "cell_type": "markdown",
   "metadata": {},
   "source": [
    "![Matrix4](./img/matrix4.png)"
   ]
  },
  {
   "cell_type": "markdown",
   "metadata": {},
   "source": [
    "- Broadcasting이 차원이 맞지 않아서 불가능할 때 가능하게 만들어주는 함수가 reshape함수이다.\n",
    "- 하나의 행렬을 변환해서 여러 가지 차원의 행렬을 만들어 보자.\n",
    "- Numpy에서 만들어 보았다."
   ]
  },
  {
   "cell_type": "code",
   "execution_count": null,
   "metadata": {},
   "outputs": [],
   "source": [
    "a = np.arange(6)\n",
    "print('First \\n', a)"
   ]
  },
  {
   "cell_type": "code",
   "execution_count": null,
   "metadata": {},
   "outputs": [],
   "source": [
    "a = np.reshape(a, [2,3])\n",
    "print('Second \\n', a)"
   ]
  },
  {
   "cell_type": "code",
   "execution_count": null,
   "metadata": {},
   "outputs": [],
   "source": [
    "a = np.reshape(a, [3,2])\n",
    "print('Thired \\n', a)"
   ]
  },
  {
   "cell_type": "code",
   "execution_count": null,
   "metadata": {},
   "outputs": [],
   "source": [
    "import tensorflow as tf"
   ]
  },
  {
   "cell_type": "code",
   "execution_count": null,
   "metadata": {},
   "outputs": [],
   "source": [
    "data = [[1,2,3], [2,3,4], [3,4,5], [4,5,6]]\n",
    "a = tf.placeholder(dtype=tf.float32, shape=[None, 3])\n",
    "b = tf.Variable([0,1,2,4], dtype=tf.float32)\n",
    "b = tf.reshape(b, [-1, 1])\n",
    "y = tf.add(a, b)"
   ]
  },
  {
   "cell_type": "code",
   "execution_count": null,
   "metadata": {},
   "outputs": [],
   "source": [
    "sess = tf.Session()\n",
    "init = tf.global_variables_initializer()\n",
    "sess.run(init)"
   ]
  },
  {
   "cell_type": "code",
   "execution_count": null,
   "metadata": {},
   "outputs": [],
   "source": [
    "y_out = sess.run(y, feed_dict={a : data})\n",
    "print(y_out)"
   ]
  },
  {
   "cell_type": "markdown",
   "metadata": {},
   "source": [
    "- reshape()에서 -1은 나머지를 함수가 알아서 채우라는 뜻.\n",
    "- 위의 예제에서는 [-1, 1] 형태로 reshape하라고 했는데, 열 수가 1이므로 4개의 원소를 가진 행렬은 [4,1]의 형태를 가지게 된다.\n",
    "- 즉 여기서 -1은 4의 의미를 가지게 된다.\n",
    "- 다음 표에서는 Broadcasting을 목적으로 reshape을 할 때 흔히 일어나는 예들이다."
   ]
  },
  {
   "cell_type": "markdown",
   "metadata": {},
   "source": [
    "| 원형(shape을 표시)    | reshape 후                  | 연산 결과       |\n",
    "| :---------------------| --------------------------: |:---------------:|\n",
    "| (200, 255) + (2)      | (1, 200, 255) + (2,1, 1)    | (2, 200, 255)   |\n",
    "| (200, 255) + (1, 2)   | (200, 255, 1) + (1,1, 2)    | (200, 255 ,2)   |\n",
    "| (200, 255) + (200, 2) | (200, 255, 1) + (200, 1, 2) | (200, 255 ,2)   |"
   ]
  },
  {
   "cell_type": "markdown",
   "metadata": {},
   "source": [
    "## argmax, argmin, argsum, argmean"
   ]
  },
  {
   "cell_type": "markdown",
   "metadata": {},
   "source": [
    "### 1) argmax, argmin 이해하기"
   ]
  },
  {
   "cell_type": "markdown",
   "metadata": {},
   "source": [
    "- numpy에서는 argmax(), argmiin() 이다.\n",
    "- argmax, argmin은 원소 중에서 가장 높은 값과 낮은 값을 나타내는 원소의 번호(Index)를 반환한다."
   ]
  },
  {
   "cell_type": "code",
   "execution_count": null,
   "metadata": {},
   "outputs": [],
   "source": [
    "import tensorflow as tf"
   ]
  },
  {
   "cell_type": "code",
   "execution_count": null,
   "metadata": {},
   "outputs": [],
   "source": [
    "data = [1,2,3,4]\n",
    "a = tf.placeholder(dtype=tf.float32)\n",
    "y1 = tf.math.argmax(a, 0)\n",
    "y2 = tf.math.argmin(a, 0)"
   ]
  },
  {
   "cell_type": "code",
   "execution_count": null,
   "metadata": {},
   "outputs": [],
   "source": [
    "sess = tf.Session()"
   ]
  },
  {
   "cell_type": "code",
   "execution_count": null,
   "metadata": {},
   "outputs": [],
   "source": [
    "y1_out = sess.run(y1, feed_dict={a:data})\n",
    "y1_out"
   ]
  },
  {
   "cell_type": "code",
   "execution_count": null,
   "metadata": {},
   "outputs": [],
   "source": [
    "y2_out = sess.run(y2, feed_dict={a:data})\n",
    "y2_out"
   ]
  },
  {
   "cell_type": "code",
   "execution_count": null,
   "metadata": {},
   "outputs": [],
   "source": [
    "import tensorflow as tf"
   ]
  },
  {
   "cell_type": "code",
   "execution_count": null,
   "metadata": {},
   "outputs": [],
   "source": [
    "data = [[0,2,4], [6,8,10]]\n",
    "a = tf.placeholder(dtype=tf.float32)\n",
    "y1 = tf.math.argmax(a, 0)\n",
    "y2 = tf.math.argmin(a, 1)"
   ]
  },
  {
   "cell_type": "code",
   "execution_count": null,
   "metadata": {},
   "outputs": [],
   "source": [
    "sess = tf.Session()"
   ]
  },
  {
   "cell_type": "code",
   "execution_count": null,
   "metadata": {},
   "outputs": [],
   "source": [
    "y1_out = sess.run(y1, feed_dict={a:data})\n",
    "y1_out"
   ]
  },
  {
   "cell_type": "code",
   "execution_count": null,
   "metadata": {},
   "outputs": [],
   "source": [
    "y2_out = sess.run(y2, feed_dict={a:data})\n",
    "y2_out"
   ]
  },
  {
   "cell_type": "markdown",
   "metadata": {},
   "source": [
    "![Matrix5](./img/matrix5.png)"
   ]
  },
  {
   "cell_type": "markdown",
   "metadata": {},
   "source": [
    "### 2) reduce_sum, reduce_mean 이해하기"
   ]
  },
  {
   "cell_type": "markdown",
   "metadata": {},
   "source": [
    "- argmax, argmean과 비슷하게 쓰이는 함수\n",
    "- Numpy에서는 mean함수, sum함수에 해당\n",
    "- 기능은 주어진 tensor의 원소들을 대상으로 합의 값, 평균의 값을 구하는 것"
   ]
  },
  {
   "cell_type": "code",
   "execution_count": null,
   "metadata": {},
   "outputs": [],
   "source": [
    "import tensorflow as tf"
   ]
  },
  {
   "cell_type": "code",
   "execution_count": null,
   "metadata": {},
   "outputs": [],
   "source": [
    "data = [1,2,3,4]\n",
    "a = tf.placeholder(dtype=tf.float32)\n",
    "y1 = tf.reduce_sum(a, 0)\n",
    "y2 = tf.reduce_mean(a, 0)"
   ]
  },
  {
   "cell_type": "code",
   "execution_count": null,
   "metadata": {},
   "outputs": [],
   "source": [
    "sess = tf.Session()"
   ]
  },
  {
   "cell_type": "code",
   "execution_count": null,
   "metadata": {},
   "outputs": [],
   "source": [
    "y1_out = sess.run(y1, feed_dict={a:data})\n",
    "y1_out"
   ]
  },
  {
   "cell_type": "code",
   "execution_count": null,
   "metadata": {},
   "outputs": [],
   "source": [
    "y2_out = sess.run(y2, feed_dict={a:data})\n",
    "y2_out"
   ]
  },
  {
   "cell_type": "markdown",
   "metadata": {},
   "source": [
    "- 여기서 reduce는 차원을 줄여서 값을 반환한다는 뜻."
   ]
  },
  {
   "cell_type": "code",
   "execution_count": null,
   "metadata": {},
   "outputs": [],
   "source": [
    "import tensorflow as tf"
   ]
  },
  {
   "cell_type": "code",
   "execution_count": null,
   "metadata": {},
   "outputs": [],
   "source": [
    "data = [[0,2,4], [6,8,10]]\n",
    "a = tf.placeholder(dtype=tf.float32)\n",
    "y1 = tf.reduce_sum(a, 0)\n",
    "y2 = tf.reduce_mean(a, 1)"
   ]
  },
  {
   "cell_type": "code",
   "execution_count": null,
   "metadata": {},
   "outputs": [],
   "source": [
    "sess = tf.Session()"
   ]
  },
  {
   "cell_type": "code",
   "execution_count": null,
   "metadata": {},
   "outputs": [],
   "source": [
    "y1_out = sess.run(y1, feed_dict={a:data})\n",
    "y1_out"
   ]
  },
  {
   "cell_type": "code",
   "execution_count": null,
   "metadata": {},
   "outputs": [],
   "source": [
    "y2_out = sess.run(y2, feed_dict={a:data})\n",
    "y2_out"
   ]
  },
  {
   "cell_type": "code",
   "execution_count": null,
   "metadata": {},
   "outputs": [],
   "source": [
    "import tensorflow as tf\n",
    "tf.reset_default_graph()   # To clear the defined variables and operations of the previous cell\n",
    "\n",
    "# create graph\n",
    "a = tf.constant(2)\n",
    "b = tf.constant(3)\n",
    "c = tf.add(a, b)\n",
    "\n",
    "# creating the writer out of the session\n",
    "# writer = tf.summary.FileWriter('./graphs', tf.get_default_graph())\n",
    "\n",
    "# launch the graph in a session\n",
    "with tf.Session() as sess:\n",
    "    # or creating the writer inside the session\n",
    "    writer = tf.summary.FileWriter('./graphs', sess.graph)\n",
    "    print(sess.run(c))"
   ]
  },
  {
   "cell_type": "code",
   "execution_count": null,
   "metadata": {},
   "outputs": [],
   "source": [
    "import tensorflow as tf\n",
    "a = tf.add(1,2)\n",
    "b = tf.multiply(a, 3)\n",
    "c = tf.add(4, 5)\n",
    "d = tf.multiply(c, 6)\n",
    "e = tf.multiply(4, 5)\n",
    "f = tf.math.divide(c, 6)\n",
    "g = tf.add(b, d)\n",
    "g = tf.cast(g, dtype=tf.float64)\n",
    "h = tf.multiply(g, f)\n",
    "with tf.Session() as sess:\n",
    "    writer = tf.summary.FileWriter(r'./graphs/sample', sess.graph)\n",
    "    print(sess.run(h))\n",
    "    writer.close()"
   ]
  },
  {
   "cell_type": "code",
   "execution_count": null,
   "metadata": {},
   "outputs": [],
   "source": [
    "!tensorboard --logdir='./graphs/sample' --port 6006"
   ]
  }
 ],
 "metadata": {
  "kernelspec": {
   "display_name": "Python 3",
   "language": "python",
   "name": "python3"
  },
  "language_info": {
   "codemirror_mode": {
    "name": "ipython",
    "version": 3
   },
   "file_extension": ".py",
   "mimetype": "text/x-python",
   "name": "python",
   "nbconvert_exporter": "python",
   "pygments_lexer": "ipython3",
   "version": "3.7.3"
  }
 },
 "nbformat": 4,
 "nbformat_minor": 2
}
