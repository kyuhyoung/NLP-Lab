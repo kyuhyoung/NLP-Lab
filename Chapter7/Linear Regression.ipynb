{
 "cells": [
  {
   "cell_type": "code",
   "execution_count": null,
   "metadata": {},
   "outputs": [],
   "source": [
    "import numpy as np\n",
    "import tensorflow as tf"
   ]
  },
  {
   "cell_type": "markdown",
   "metadata": {},
   "source": [
    "## 1)자료 읽기"
   ]
  },
  {
   "cell_type": "code",
   "execution_count": null,
   "metadata": {},
   "outputs": [],
   "source": [
    "data_file_name = './simple_linear.txt' # 데이터 파일 이름을 변수에 입력한다.\n",
    "xy = np.genfromtxt(data_file_name,dtype='float32') #파일의 데이터를 불러 들인다."
   ]
  },
  {
   "cell_type": "code",
   "execution_count": null,
   "metadata": {},
   "outputs": [],
   "source": [
    "# x값과 y값을 불러 온다.\n",
    "x_data = xy[: , 0] # 첫째 칼럼을 x_data로 저장\n",
    "y_data = xy[: , 2] # 셋째 칼럼을 y_data로 저장\n",
    "\n",
    "# 데이터를 담을 tensor 변수를 선언한다.\n",
    "X = tf.placeholder(\"float32\")\n",
    "Y = tf.placeholder(\"float32\")"
   ]
  },
  {
   "cell_type": "markdown",
   "metadata": {},
   "source": [
    "## 2) 모델 정의하기"
   ]
  },
  {
   "cell_type": "code",
   "execution_count": null,
   "metadata": {},
   "outputs": [],
   "source": [
    "# 첫 a값과 b값을 주었다. 다른 값을 주어도 괜찮다.\n",
    "temp_a = 0.5\n",
    "temp_b = 0.5\n",
    "\n",
    "# a값과 b값을 tensor로 변수를 선언한다.\n",
    "a = tf.Variable(temp_a)\n",
    "b = tf.Variable(temp_b)\n",
    "y = a * X + b"
   ]
  },
  {
   "cell_type": "markdown",
   "metadata": {},
   "source": [
    "## 3) Cost 정의 및 학습"
   ]
  },
  {
   "cell_type": "code",
   "execution_count": null,
   "metadata": {},
   "outputs": [],
   "source": [
    "# cost를 정의한다. cost는 예측한 결과 값과 실제 결과 값의 차이\n",
    "cost = tf.reduce_mean(tf.square(y - Y))  # 1999개의 행과 1개의 열로 구성\n",
    "\n",
    "\n",
    "# optimizer와 학습 정의 \n",
    "opt = tf.train.GradientDescentOptimizer(0.001)\n",
    "do_train = opt.minimize(cost)\n",
    "\n",
    "#Optiomizer는 접선의 기울기가 제일 낮은 점을 구하는 것\n",
    "#a는 가중치(weight)\n",
    "#b는 bias\n",
    "\n",
    "# session 초기화 정의 \n",
    "init = tf.global_variables_initializer()"
   ]
  },
  {
   "cell_type": "code",
   "execution_count": null,
   "metadata": {},
   "outputs": [],
   "source": [
    "with tf.Session() as sess:\n",
    "    sess.run(init)\n",
    "    \n",
    "    # loop 과정 \n",
    "    for i in range(0,5000):\n",
    "        sess.run(do_train, feed_dict={X: x_data, Y: y_data})\n",
    "        \n",
    "        # loggging part\n",
    "        if (i % 100 ==0):\n",
    "            cost_out = sess.run(cost, feed_dict={X:x_data, Y:y_data})\n",
    "            a_out = sess.run(a, feed_dict={X:x_data, Y:y_data})\n",
    "            b_out = sess.run(b, feed_dict={X:x_data, Y:y_data})\n",
    "            print (i, \"session is performed.. cost is \", cost_out, \", a is \", a_out,\", b is \", b_out )"
   ]
  },
  {
   "cell_type": "code",
   "execution_count": null,
   "metadata": {},
   "outputs": [],
   "source": [
    "import matplotlib.pyplot as plt\n",
    "%matplotlib inline\n",
    "plt.plot(x_data, y_data, 'ro', alpha= 0.01)\n",
    "\n",
    "x_sample = np.linspace( np.amin(x_data)  , np.amax(x_data), 20)\n",
    "y_sample = a_out * x_sample + b_out\n",
    "\n",
    "plt.plot(x_sample, y_sample, '*', label=\"x_sample\")\n",
    "plt.legend()\n",
    "plt.show()"
   ]
  },
  {
   "cell_type": "markdown",
   "metadata": {},
   "source": [
    "## 4)Code 수정 : GradientDescentOptimizer()의 learning_rate변경하기"
   ]
  },
  {
   "cell_type": "code",
   "execution_count": null,
   "metadata": {},
   "outputs": [],
   "source": [
    "# cost를 정의한다. cost는 예측한 결과 값과 실제 결과 값의 차이\n",
    "cost = tf.reduce_mean(tf.square(y - Y))  # 1999개의 행과 1개의 열로 구성\n",
    "\n",
    "\n",
    "# optimizer와 학습 정의 \n",
    "opt = tf.train.GradientDescentOptimizer(0.0001)  \n",
    "do_train = opt.minimize(cost)\n",
    "\n",
    "#Optiomizer는 접선의 기울기가 제일 낮은 점을 구하는 것\n",
    "#a는 가중치(weight)\n",
    "#b는 bias\n",
    "\n",
    "# session 초기화 정의 \n",
    "init = tf.global_variables_initializer()\n",
    "\n",
    "with tf.Session() as sess:\n",
    "    sess.run(init)\n",
    "    \n",
    "    # loop 과정 \n",
    "    for i in range(0,5000):\n",
    "        sess.run(do_train, feed_dict={X: x_data, Y: y_data})\n",
    "        \n",
    "        # loggging part\n",
    "        if (i % 100 ==0):\n",
    "            cost_out = sess.run(cost, feed_dict={X:x_data, Y:y_data})\n",
    "            a_out = sess.run(a, feed_dict={X:x_data, Y:y_data})\n",
    "            b_out = sess.run(b, feed_dict={X:x_data, Y:y_data})\n",
    "            print (i, \"session is performed.. cost is \", cost_out, \", a is \", a_out,\", b is \", b_out )"
   ]
  },
  {
   "cell_type": "markdown",
   "metadata": {},
   "source": [
    "- 괄호안의 parameter는 learning_rate로서 얼마나 빨리 학습을 할것인가를 결정\n",
    "- 값이 커질수록 빨리 학습하는 효과 있음.\n",
    "- opt = tf.train.GradientDescentOptimizer(0.01)\n",
    "   * learning_rate를 너무 크게 잡아서 결과적으로 cost를 줄이는 게 아니라 넘쳐서 에러 발생\n",
    "- opt = tf.train.GradientDescentOptimizer(0.0001)\n",
    "- for i in range()도 변경해 보자.\n",
    "- 5000에서 15000으로 실행해 보자.\n",
    "- 결론은 5000번에 lenaring_rate가 0.001가장 최적임을 알 수 있다."
   ]
  },
  {
   "cell_type": "markdown",
   "metadata": {},
   "source": [
    "## 코드 변경"
   ]
  },
  {
   "cell_type": "code",
   "execution_count": null,
   "metadata": {},
   "outputs": [],
   "source": [
    "import numpy as np\n",
    "import tensorflow as tf\n",
    "\n",
    "data_file_name= './random_linear.txt' # 데이터 파일 이름을 변수에 입력한다.\n",
    "xy=np.genfromtxt(data_file_name,dtype='float32') #파일의 데이터를 불러 들인다.\n",
    "\n",
    "# x값과 y값을 불러 온다.\n",
    "x_data = xy[: , 0] # 첫째 칼럼을 x_data로 저장\n",
    "y_data = xy[: , 1] # 둘째 칼럼을 y_data로 저장\n",
    "\n",
    "\n",
    "# 데이터를 담을 tensor 변수를 선언한다.\n",
    "X = tf.placeholder(\"float32\")\n",
    "Y = tf.placeholder(\"float32\")\n",
    "\n",
    "# 첫 a값과 b값을 주었다. 다른 값을 주어도 괜찮다.\n",
    "temp_a =0.5\n",
    "temp_b =0.5\n",
    "\n",
    "# a값과 b값을 tensor로 변수를 선언한다.\n",
    "a = tf.Variable(temp_a)\n",
    "b = tf.Variable(temp_b)\n",
    "y = a * X + b\n",
    "\n",
    "# cost를 정의한다.\n",
    "cost = tf.reduce_mean(tf.square(y - Y))\n",
    "\n",
    "# optimizer와 학습 정의\n",
    "opt = tf.train.GradientDescentOptimizer(0.001)\n",
    "do_train = opt.minimize(cost)\n",
    "\n",
    "# session 초기화 정의\n",
    "init = tf.global_variables_initializer()\n",
    "\n",
    "with tf.Session() as sess:\n",
    "        sess.run(init)\n",
    "        # loop 과정\n",
    "        for i in range(0,5000):\n",
    "            sess.run(do_train, feed_dict={X: x_data, Y: y_data})\n",
    "            # loggging part\n",
    "            if (i % 100 ==0):\n",
    "                cost_out = sess.run(cost, feed_dict={X:x_data, Y:y_data})\n",
    "                a_out = sess.run(a, feed_dict={X:x_data, Y:y_data})\n",
    "                b_out = sess.run(b, feed_dict={X:x_data, Y:y_data})\n",
    "                print (i, \"session is performed.. cost is \", cost_out, \", a is \", a_out,\", b is \", b_out )\n"
   ]
  },
  {
   "cell_type": "markdown",
   "metadata": {},
   "source": [
    "- learning_rate를 0.001, 0.002, 0.003으로 test\n",
    "- 횟수를 5000회, 10000회로 test 해보자."
   ]
  }
 ],
 "metadata": {
  "kernelspec": {
   "display_name": "Python 3",
   "language": "python",
   "name": "python3"
  },
  "language_info": {
   "codemirror_mode": {
    "name": "ipython",
    "version": 3
   },
   "file_extension": ".py",
   "mimetype": "text/x-python",
   "name": "python",
   "nbconvert_exporter": "python",
   "pygments_lexer": "ipython3",
   "version": "3.7.3"
  }
 },
 "nbformat": 4,
 "nbformat_minor": 2
}
