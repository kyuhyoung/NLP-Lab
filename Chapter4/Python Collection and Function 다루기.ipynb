{
 "cells": [
  {
   "cell_type": "markdown",
   "metadata": {},
   "source": [
    "## enumerate()"
   ]
  },
  {
   "cell_type": "markdown",
   "metadata": {},
   "source": [
    "- 순서값과 요소값 둘을 묶어서 tuple로 만든 collection으로 반환"
   ]
  },
  {
   "cell_type": "code",
   "execution_count": 1,
   "metadata": {},
   "outputs": [
    {
     "name": "stdout",
     "output_type": "stream",
     "text": [
      "점수 : 88\n",
      "점수 : 45\n",
      "점수 : 67\n",
      "점수 : 89\n",
      "점수 : 100\n"
     ]
    }
   ],
   "source": [
    "score = [88, 45, 67, 89, 100]\n",
    "for i in score:\n",
    "    print('점수 :', i)"
   ]
  },
  {
   "cell_type": "code",
   "execution_count": 2,
   "metadata": {},
   "outputs": [
    {
     "name": "stdout",
     "output_type": "stream",
     "text": [
      "1 번 학생 점수 :  88\n",
      "2 번 학생 점수 :  45\n",
      "3 번 학생 점수 :  67\n",
      "4 번 학생 점수 :  89\n",
      "5 번 학생 점수 :  100\n"
     ]
    }
   ],
   "source": [
    "no = 1\n",
    "for i in score:\n",
    "    print(str(no), '번 학생 점수 : ', i)\n",
    "    no += 1"
   ]
  },
  {
   "cell_type": "code",
   "execution_count": 3,
   "metadata": {
    "scrolled": false
   },
   "outputs": [
    {
     "name": "stdout",
     "output_type": "stream",
     "text": [
      "[(0, 88), (1, 45), (2, 67), (3, 89), (4, 100)]\n"
     ]
    }
   ],
   "source": [
    "print(list(enumerate(score))) #enumerate()는 순서값을 0부터 시작"
   ]
  },
  {
   "cell_type": "code",
   "execution_count": 4,
   "metadata": {},
   "outputs": [
    {
     "name": "stdout",
     "output_type": "stream",
     "text": [
      "[(1, 88), (2, 45), (3, 67), (4, 89), (5, 100)]\n"
     ]
    }
   ],
   "source": [
    "print(list(enumerate(score, 1))) #enumerate()의 두번째 인자값으로 시작"
   ]
  },
  {
   "cell_type": "code",
   "execution_count": null,
   "metadata": {},
   "outputs": [],
   "source": []
  },
  {
   "cell_type": "code",
   "execution_count": null,
   "metadata": {},
   "outputs": [],
   "source": []
  }
 ],
 "metadata": {
  "kernelspec": {
   "display_name": "Python 3",
   "language": "python",
   "name": "python3"
  },
  "language_info": {
   "codemirror_mode": {
    "name": "ipython",
    "version": 3
   },
   "file_extension": ".py",
   "mimetype": "text/x-python",
   "name": "python",
   "nbconvert_exporter": "python",
   "pygments_lexer": "ipython3",
   "version": "3.7.3"
  }
 },
 "nbformat": 4,
 "nbformat_minor": 2
}
