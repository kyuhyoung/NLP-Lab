{
 "cells": [
  {
   "cell_type": "markdown",
   "metadata": {},
   "source": [
    "## kor2Vec"
   ]
  },
  {
   "cell_type": "markdown",
   "metadata": {},
   "source": [
    "## Refer to : https://github.com/dongjun-Lee/kor2vec"
   ]
  },
  {
   "cell_type": "markdown",
   "metadata": {},
   "source": [
    "#### Library for Korean morpheme and word vector representation.\n",
    "- Paper : http://kiise.or.kr/e_journal/2018/5/JOK/pdf/04.pdf"
   ]
  },
  {
   "cell_type": "markdown",
   "metadata": {},
   "source": [
    "## Download Pre-trained Morpheme Vectors"
   ]
  },
  {
   "cell_type": "markdown",
   "metadata": {},
   "source": [
    "### Morpheme vectors are trained on Naver news corpus (218M tokens) using our model. You can download pre-trained morpheme vectors here : http://mmlab.snu.ac.kr/~djlee/pos.vec"
   ]
  },
  {
   "cell_type": "code",
   "execution_count": 2,
   "metadata": {},
   "outputs": [],
   "source": [
    "from gensim.models.keyedvectors import KeyedVectors"
   ]
  },
  {
   "cell_type": "code",
   "execution_count": 3,
   "metadata": {},
   "outputs": [],
   "source": [
    "pos_vectors = KeyedVectors.load_word2vec_format('./pos.vec', binary=False)"
   ]
  },
  {
   "cell_type": "code",
   "execution_count": 5,
   "metadata": {},
   "outputs": [
    {
     "data": {
      "text/plain": [
       "[(\"('총리','Noun')\", 0.4580323100090027),\n",
       " (\"('대선','Noun')\", 0.4579383134841919),\n",
       " (\"('영부인','Noun')\", 0.4453449249267578),\n",
       " (\"('시진핑','Noun')\", 0.4427518844604492),\n",
       " (\"('자신','Noun')\", 0.44233953952789307),\n",
       " (\"('국가주석','Noun')\", 0.4399407207965851),\n",
       " (\"('초대','Noun')\", 0.43440330028533936),\n",
       " (\"('도널드','Noun')\", 0.429387629032135),\n",
       " (\"('정부','Noun')\", 0.4291357398033142),\n",
       " (\"('유엔','Noun')\", 0.4284411072731018)]"
      ]
     },
     "execution_count": 5,
     "metadata": {},
     "output_type": "execute_result"
    }
   ],
   "source": [
    "pos_vectors.most_similar(\"('대통령','Noun')\")"
   ]
  },
  {
   "cell_type": "code",
   "execution_count": 6,
   "metadata": {},
   "outputs": [
    {
     "data": {
      "text/plain": [
       "[(\"('파리','Noun')\", 0.61506587266922),\n",
       " (\"('브뤼셀','Noun')\", 0.4625056982040405),\n",
       " (\"('르펜','Noun')\", 0.4620213210582733),\n",
       " (\"('국민전선','Noun')\", 0.4543028175830841),\n",
       " (\"('베를린','Noun')\", 0.43678876757621765),\n",
       " (\"('에마뉘엘','Noun')\", 0.4343237578868866),\n",
       " (\"('멜랑숑','Noun')\", 0.4231666326522827),\n",
       " (\"('샹젤리제','Noun')\", 0.42176365852355957),\n",
       " (\"('니스','Noun')\", 0.42036762833595276),\n",
       " (\"('마린','Noun')\", 0.4149591326713562)]"
      ]
     },
     "execution_count": 6,
     "metadata": {},
     "output_type": "execute_result"
    }
   ],
   "source": [
    "pos_vectors.most_similar(positive=[\"('도쿄','Noun')\", \"('프랑스','Noun')\"], negative=[\"('일본','Noun')\"])"
   ]
  },
  {
   "cell_type": "code",
   "execution_count": 8,
   "metadata": {},
   "outputs": [],
   "source": [
    "from konlpy.tag import Okt\n",
    "import numpy as np\n",
    "okt = Okt()\n",
    "word = \"대통령이\"\n",
    "post_list = okt.pos(word, norm=True)\n",
    "word_vector = np.sum([pos_vectors.word_vec(str(pos).replace(\" \", \"\")) for pos in post_list], axis=0)"
   ]
  },
  {
   "cell_type": "code",
   "execution_count": 10,
   "metadata": {},
   "outputs": [
    {
     "data": {
      "text/plain": [
       "(200,)"
      ]
     },
     "execution_count": 10,
     "metadata": {},
     "output_type": "execute_result"
    }
   ],
   "source": [
    "word_vector.shape"
   ]
  }
 ],
 "metadata": {
  "kernelspec": {
   "display_name": "Python 3",
   "language": "python",
   "name": "python3"
  },
  "language_info": {
   "codemirror_mode": {
    "name": "ipython",
    "version": 3
   },
   "file_extension": ".py",
   "mimetype": "text/x-python",
   "name": "python",
   "nbconvert_exporter": "python",
   "pygments_lexer": "ipython3",
   "version": "3.7.3"
  }
 },
 "nbformat": 4,
 "nbformat_minor": 2
}
